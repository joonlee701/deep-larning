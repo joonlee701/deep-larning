{
 "cells": [
  {
   "cell_type": "markdown",
   "metadata": {},
   "source": [
    "이미지 인식 - CNN"
   ]
  },
  {
   "cell_type": "markdown",
   "metadata": {},
   "source": [
    "MNIST 사례"
   ]
  },
  {
   "cell_type": "code",
   "execution_count": 76,
   "metadata": {},
   "outputs": [],
   "source": [
    "import numpy as np\n",
    "import tensorflow as tf\n",
    "from tensorflow.keras.datasets import mnist\n",
    "from tensorflow.keras.models import Sequential # 순차적인 \n",
    "from tensorflow.keras.layers import Dense, Dropout, Flatten, Conv2D, MaxPooling2D\n",
    "from tensorflow.keras.callbacks import ModelCheckpoint, EarlyStopping\n",
    "\n",
    "import os\n",
    "import matplotlib.pyplot as plt\n",
    "%matplotlib inline"
   ]
  },
  {
   "cell_type": "code",
   "execution_count": null,
   "metadata": {},
   "outputs": [],
   "source": []
  },
  {
   "cell_type": "code",
   "execution_count": 78,
   "metadata": {},
   "outputs": [],
   "source": [
    "# seed 값 설정\n",
    "seed = 0\n",
    "np.random.seed(seed)\n",
    "tf.random.set_seed(seed)"
   ]
  },
  {
   "cell_type": "code",
   "execution_count": 79,
   "metadata": {},
   "outputs": [
    {
     "data": {
      "text/plain": [
       "((60000, 28, 28), (10000, 28, 28))"
      ]
     },
     "execution_count": 79,
     "metadata": {},
     "output_type": "execute_result"
    }
   ],
   "source": [
    "# 데이터 불러오기\n",
    "(X_train, Y_train), (X_test, Y_test) = tf.keras.datasets.mnist.load_data()\n",
    "X_train.shape, X_test.shape"
   ]
  },
  {
   "cell_type": "code",
   "execution_count": 80,
   "metadata": {},
   "outputs": [],
   "source": [
    "# 데이터 불러오기\n",
    "(X_train, Y_train), (X_test, Y_test) = mnist.load_data()\n",
    "X_train = X_train.reshape(X_train.shape[0], 28, 28, 1).astype('float32') / 255\n",
    "X_test = X_test.reshape(X_test.shape[0], 28, 28, 1).astype('float32') / 255\n",
    "Y_train = tf.keras.utils.to_categorical(Y_train)\n",
    "Y_test = tf.keras.utils.to_categorical(Y_test)"
   ]
  },
  {
   "cell_type": "code",
   "execution_count": 81,
   "metadata": {},
   "outputs": [
    {
     "name": "stdout",
     "output_type": "stream",
     "text": [
      "WARNING:tensorflow:From C:\\Users\\1\\.conda\\envs\\tf2\\lib\\site-packages\\tensorflow_core\\python\\ops\\resource_variable_ops.py:1635: calling BaseResourceVariable.__init__ (from tensorflow.python.ops.resource_variable_ops) with constraint is deprecated and will be removed in a future version.\n",
      "Instructions for updating:\n",
      "If using Keras pass *_constraint arguments to layers.\n",
      "Model: \"sequential\"\n",
      "_________________________________________________________________\n",
      "Layer (type)                 Output Shape              Param #   \n",
      "=================================================================\n",
      "conv2d (Conv2D)              (None, 26, 26, 32)        320       \n",
      "_________________________________________________________________\n",
      "conv2d_1 (Conv2D)            (None, 24, 24, 64)        18496     \n",
      "_________________________________________________________________\n",
      "max_pooling2d (MaxPooling2D) (None, 12, 12, 64)        0         \n",
      "_________________________________________________________________\n",
      "dropout (Dropout)            (None, 12, 12, 64)        0         \n",
      "_________________________________________________________________\n",
      "flatten (Flatten)            (None, 9216)              0         \n",
      "_________________________________________________________________\n",
      "dense (Dense)                (None, 128)               1179776   \n",
      "_________________________________________________________________\n",
      "dropout_1 (Dropout)          (None, 128)               0         \n",
      "_________________________________________________________________\n",
      "dense_1 (Dense)              (None, 10)                1290      \n",
      "=================================================================\n",
      "Total params: 1,199,882\n",
      "Trainable params: 1,199,882\n",
      "Non-trainable params: 0\n",
      "_________________________________________________________________\n"
     ]
    }
   ],
   "source": [
    "# 컨볼루션 신경망 설정\n",
    "model = Sequential([\n",
    "    Conv2D(32, kernel_size=(3, 3), input_shape=(28, 28, 1), activation='relu'),\n",
    "    Conv2D(64, (3, 3), activation='relu'),\n",
    "    MaxPooling2D(pool_size=2),\n",
    "    Dropout(0.25),\n",
    "    Flatten(),\n",
    "    Dense(128, activation='relu'),\n",
    "    Dropout(0.5),\n",
    "    Dense(10, activation='softmax')\n",
    "])\n",
    "model.summary()"
   ]
  },
  {
   "cell_type": "code",
   "execution_count": 82,
   "metadata": {},
   "outputs": [],
   "source": [
    "model.compile(loss='categorical_crossentropy',\n",
    "              optimizer='adam',\n",
    "              metrics=['accuracy'])"
   ]
  },
  {
   "cell_type": "code",
   "execution_count": 83,
   "metadata": {},
   "outputs": [],
   "source": [
    "# 모델 최적화 설정\n",
    "MODEL_DIR = './model/'\n",
    "if not os.path.exists(MODEL_DIR):\n",
    "    os.mkdir(MODEL_DIR)"
   ]
  },
  {
   "cell_type": "code",
   "execution_count": 84,
   "metadata": {},
   "outputs": [],
   "source": [
    "modelpath = MODEL_DIR + \"mnist-cnn-{epoch:02d}-{val_loss:.4f}.hdf5\"\n",
    "checkpointer = ModelCheckpoint(filepath=modelpath, monitor='val_loss', \n",
    "                               verbose=1, save_best_only=True)\n",
    "early_stopping_callback = EarlyStopping(monitor='val_loss', patience=10)"
   ]
  },
  {
   "cell_type": "code",
   "execution_count": 85,
   "metadata": {},
   "outputs": [
    {
     "name": "stdout",
     "output_type": "stream",
     "text": [
      "Train on 60000 samples, validate on 10000 samples\n",
      "Epoch 1/30\n",
      "59800/60000 [============================>.] - ETA: 0s - loss: 0.2766 - acc: 0.9172\n",
      "Epoch 00001: val_loss improved from inf to 0.05573, saving model to ./model/mnist-cnn-01-0.0557.hdf5\n",
      "60000/60000 [==============================] - 44s 732us/sample - loss: 0.2759 - acc: 0.9174 - val_loss: 0.0557 - val_acc: 0.9835\n",
      "Epoch 2/30\n",
      "59800/60000 [============================>.] - ETA: 0s - loss: 0.0929 - acc: 0.9725\n",
      "Epoch 00002: val_loss improved from 0.05573 to 0.04234, saving model to ./model/mnist-cnn-02-0.0423.hdf5\n",
      "60000/60000 [==============================] - 43s 719us/sample - loss: 0.0927 - acc: 0.9726 - val_loss: 0.0423 - val_acc: 0.9854\n",
      "Epoch 3/30\n",
      "59800/60000 [============================>.] - ETA: 0s - loss: 0.0690 - acc: 0.9789\n",
      "Epoch 00003: val_loss improved from 0.04234 to 0.03263, saving model to ./model/mnist-cnn-03-0.0326.hdf5\n",
      "60000/60000 [==============================] - 43s 717us/sample - loss: 0.0692 - acc: 0.9789 - val_loss: 0.0326 - val_acc: 0.9899\n",
      "Epoch 4/30\n",
      "59800/60000 [============================>.] - ETA: 0s - loss: 0.0584 - acc: 0.9815\n",
      "Epoch 00004: val_loss did not improve from 0.03263\n",
      "60000/60000 [==============================] - 43s 719us/sample - loss: 0.0584 - acc: 0.9815 - val_loss: 0.0373 - val_acc: 0.9879\n",
      "Epoch 5/30\n",
      "59800/60000 [============================>.] - ETA: 0s - loss: 0.0484 - acc: 0.9855\n",
      "Epoch 00005: val_loss improved from 0.03263 to 0.03220, saving model to ./model/mnist-cnn-05-0.0322.hdf5\n",
      "60000/60000 [==============================] - 43s 718us/sample - loss: 0.0484 - acc: 0.9855 - val_loss: 0.0322 - val_acc: 0.9900\n",
      "Epoch 6/30\n",
      "59800/60000 [============================>.] - ETA: 0s - loss: 0.0434 - acc: 0.9865\n",
      "Epoch 00006: val_loss did not improve from 0.03220\n",
      "60000/60000 [==============================] - 43s 725us/sample - loss: 0.0434 - acc: 0.9865 - val_loss: 0.0338 - val_acc: 0.9892\n",
      "Epoch 7/30\n",
      "59800/60000 [============================>.] - ETA: 0s - loss: 0.0373 - acc: 0.9881\n",
      "Epoch 00007: val_loss improved from 0.03220 to 0.02818, saving model to ./model/mnist-cnn-07-0.0282.hdf5\n",
      "60000/60000 [==============================] - 43s 720us/sample - loss: 0.0372 - acc: 0.9881 - val_loss: 0.0282 - val_acc: 0.9911\n",
      "Epoch 8/30\n",
      "59800/60000 [============================>.] - ETA: 0s - loss: 0.0345 - acc: 0.9889\n",
      "Epoch 00008: val_loss did not improve from 0.02818\n",
      "60000/60000 [==============================] - 43s 722us/sample - loss: 0.0348 - acc: 0.9889 - val_loss: 0.0313 - val_acc: 0.9903\n",
      "Epoch 9/30\n",
      "59800/60000 [============================>.] - ETA: 0s - loss: 0.0303 - acc: 0.9902\n",
      "Epoch 00009: val_loss did not improve from 0.02818\n",
      "60000/60000 [==============================] - 43s 721us/sample - loss: 0.0303 - acc: 0.9902 - val_loss: 0.0316 - val_acc: 0.9916\n",
      "Epoch 10/30\n",
      "59800/60000 [============================>.] - ETA: 0s - loss: 0.0268 - acc: 0.9913\n",
      "Epoch 00010: val_loss improved from 0.02818 to 0.02742, saving model to ./model/mnist-cnn-10-0.0274.hdf5\n",
      "60000/60000 [==============================] - 44s 729us/sample - loss: 0.0269 - acc: 0.9913 - val_loss: 0.0274 - val_acc: 0.9916\n",
      "Epoch 11/30\n",
      "59800/60000 [============================>.] - ETA: 0s - loss: 0.0268 - acc: 0.9914\n",
      "Epoch 00011: val_loss did not improve from 0.02742\n",
      "60000/60000 [==============================] - 44s 733us/sample - loss: 0.0268 - acc: 0.9914 - val_loss: 0.0302 - val_acc: 0.9910\n",
      "Epoch 12/30\n",
      "59800/60000 [============================>.] - ETA: 0s - loss: 0.0243 - acc: 0.9921\n",
      "Epoch 00012: val_loss did not improve from 0.02742\n",
      "60000/60000 [==============================] - 44s 736us/sample - loss: 0.0243 - acc: 0.9921 - val_loss: 0.0279 - val_acc: 0.9923\n",
      "Epoch 13/30\n",
      "59800/60000 [============================>.] - ETA: 0s - loss: 0.0223 - acc: 0.9927\n",
      "Epoch 00013: val_loss improved from 0.02742 to 0.02671, saving model to ./model/mnist-cnn-13-0.0267.hdf5\n",
      "60000/60000 [==============================] - 44s 734us/sample - loss: 0.0223 - acc: 0.9926 - val_loss: 0.0267 - val_acc: 0.9919\n",
      "Epoch 14/30\n",
      "59800/60000 [============================>.] - ETA: 0s - loss: 0.0224 - acc: 0.9928\n",
      "Epoch 00014: val_loss did not improve from 0.02671\n",
      "60000/60000 [==============================] - 44s 733us/sample - loss: 0.0225 - acc: 0.9927 - val_loss: 0.0289 - val_acc: 0.9923\n",
      "Epoch 15/30\n",
      "59800/60000 [============================>.] - ETA: 0s - loss: 0.0216 - acc: 0.9931\n",
      "Epoch 00015: val_loss did not improve from 0.02671\n",
      "60000/60000 [==============================] - 43s 724us/sample - loss: 0.0216 - acc: 0.9931 - val_loss: 0.0286 - val_acc: 0.9919\n",
      "Epoch 16/30\n",
      "59800/60000 [============================>.] - ETA: 0s - loss: 0.0182 - acc: 0.9935\n",
      "Epoch 00016: val_loss did not improve from 0.02671\n",
      "60000/60000 [==============================] - 44s 728us/sample - loss: 0.0183 - acc: 0.9935 - val_loss: 0.0293 - val_acc: 0.9922\n",
      "Epoch 17/30\n",
      "59800/60000 [============================>.] - ETA: 0s - loss: 0.0178 - acc: 0.9939\n",
      "Epoch 00017: val_loss did not improve from 0.02671\n",
      "60000/60000 [==============================] - 44s 727us/sample - loss: 0.0178 - acc: 0.9938 - val_loss: 0.0292 - val_acc: 0.9921\n",
      "Epoch 18/30\n",
      "59800/60000 [============================>.] - ETA: 0s - loss: 0.0170 - acc: 0.9941\n",
      "Epoch 00018: val_loss did not improve from 0.02671\n",
      "60000/60000 [==============================] - 43s 725us/sample - loss: 0.0170 - acc: 0.9941 - val_loss: 0.0308 - val_acc: 0.9914\n",
      "Epoch 19/30\n",
      "59800/60000 [============================>.] - ETA: 0s - loss: 0.0159 - acc: 0.9945\n",
      "Epoch 00019: val_loss did not improve from 0.02671\n",
      "60000/60000 [==============================] - 44s 732us/sample - loss: 0.0160 - acc: 0.9945 - val_loss: 0.0292 - val_acc: 0.9917\n",
      "Epoch 20/30\n",
      "59800/60000 [============================>.] - ETA: 0s - loss: 0.0156 - acc: 0.9947\n",
      "Epoch 00020: val_loss did not improve from 0.02671\n",
      "60000/60000 [==============================] - 44s 728us/sample - loss: 0.0155 - acc: 0.9947 - val_loss: 0.0276 - val_acc: 0.9926\n",
      "Epoch 21/30\n",
      "59800/60000 [============================>.] - ETA: 0s - loss: 0.0147 - acc: 0.9950\n",
      "Epoch 00021: val_loss did not improve from 0.02671\n",
      "60000/60000 [==============================] - 44s 729us/sample - loss: 0.0147 - acc: 0.9950 - val_loss: 0.0301 - val_acc: 0.9929\n",
      "Epoch 22/30\n",
      "59800/60000 [============================>.] - ETA: 0s - loss: 0.0156 - acc: 0.9949\n",
      "Epoch 00022: val_loss did not improve from 0.02671\n",
      "60000/60000 [==============================] - 43s 725us/sample - loss: 0.0156 - acc: 0.9948 - val_loss: 0.0277 - val_acc: 0.9932\n",
      "Epoch 23/30\n",
      "59800/60000 [============================>.] - ETA: 0s - loss: 0.0121 - acc: 0.9956\n",
      "Epoch 00023: val_loss did not improve from 0.02671\n",
      "60000/60000 [==============================] - 44s 727us/sample - loss: 0.0122 - acc: 0.9956 - val_loss: 0.0279 - val_acc: 0.9933\n"
     ]
    }
   ],
   "source": [
    "# 모델의 실행\n",
    "history = model.fit(X_train, Y_train, validation_data=(X_test, Y_test), epochs=30,\n",
    "                    batch_size=200, #epochs=5, verbose=2, \n",
    "                    callbacks=[early_stopping_callback, checkpointer])"
   ]
  },
  {
   "cell_type": "code",
   "execution_count": 98,
   "metadata": {},
   "outputs": [
    {
     "ename": "OSError",
     "evalue": "SavedModel file does not exist at: model/mnist-cnn-18-0.0267.hdf5/{saved_model.pbtxt|saved_model.pb}",
     "output_type": "error",
     "traceback": [
      "\u001b[1;31m---------------------------------------------------------------------------\u001b[0m",
      "\u001b[1;31mOSError\u001b[0m                                   Traceback (most recent call last)",
      "\u001b[1;32m<ipython-input-98-68282aac5fe7>\u001b[0m in \u001b[0;36m<module>\u001b[1;34m\u001b[0m\n\u001b[0;32m      1\u001b[0m \u001b[1;32mfrom\u001b[0m \u001b[0mtensorflow\u001b[0m\u001b[1;33m.\u001b[0m\u001b[0mkeras\u001b[0m\u001b[1;33m.\u001b[0m\u001b[0mmodels\u001b[0m \u001b[1;32mimport\u001b[0m \u001b[0mload_model\u001b[0m\u001b[1;33m\u001b[0m\u001b[1;33m\u001b[0m\u001b[0m\n\u001b[0;32m      2\u001b[0m \u001b[1;31m# del model\u001b[0m\u001b[1;33m\u001b[0m\u001b[1;33m\u001b[0m\u001b[1;33m\u001b[0m\u001b[0m\n\u001b[1;32m----> 3\u001b[1;33m \u001b[0mmodel\u001b[0m \u001b[1;33m=\u001b[0m \u001b[0mload_model\u001b[0m\u001b[1;33m(\u001b[0m\u001b[1;34m'model/mnist-cnn-18-0.0267.hdf5'\u001b[0m\u001b[1;33m)\u001b[0m\u001b[1;33m\u001b[0m\u001b[1;33m\u001b[0m\u001b[0m\n\u001b[0m",
      "\u001b[1;32m~\\.conda\\envs\\tf2\\lib\\site-packages\\tensorflow_core\\python\\keras\\saving\\save.py\u001b[0m in \u001b[0;36mload_model\u001b[1;34m(filepath, custom_objects, compile)\u001b[0m\n\u001b[0;32m    147\u001b[0m \u001b[1;33m\u001b[0m\u001b[0m\n\u001b[0;32m    148\u001b[0m   \u001b[1;32mif\u001b[0m \u001b[0misinstance\u001b[0m\u001b[1;33m(\u001b[0m\u001b[0mfilepath\u001b[0m\u001b[1;33m,\u001b[0m \u001b[0msix\u001b[0m\u001b[1;33m.\u001b[0m\u001b[0mstring_types\u001b[0m\u001b[1;33m)\u001b[0m\u001b[1;33m:\u001b[0m\u001b[1;33m\u001b[0m\u001b[1;33m\u001b[0m\u001b[0m\n\u001b[1;32m--> 149\u001b[1;33m     \u001b[0mloader_impl\u001b[0m\u001b[1;33m.\u001b[0m\u001b[0mparse_saved_model\u001b[0m\u001b[1;33m(\u001b[0m\u001b[0mfilepath\u001b[0m\u001b[1;33m)\u001b[0m\u001b[1;33m\u001b[0m\u001b[1;33m\u001b[0m\u001b[0m\n\u001b[0m\u001b[0;32m    150\u001b[0m     \u001b[1;32mreturn\u001b[0m \u001b[0msaved_model_load\u001b[0m\u001b[1;33m.\u001b[0m\u001b[0mload\u001b[0m\u001b[1;33m(\u001b[0m\u001b[0mfilepath\u001b[0m\u001b[1;33m,\u001b[0m \u001b[0mcompile\u001b[0m\u001b[1;33m)\u001b[0m\u001b[1;33m\u001b[0m\u001b[1;33m\u001b[0m\u001b[0m\n\u001b[0;32m    151\u001b[0m \u001b[1;33m\u001b[0m\u001b[0m\n",
      "\u001b[1;32m~\\.conda\\envs\\tf2\\lib\\site-packages\\tensorflow_core\\python\\saved_model\\loader_impl.py\u001b[0m in \u001b[0;36mparse_saved_model\u001b[1;34m(export_dir)\u001b[0m\n\u001b[0;32m     81\u001b[0m                   (export_dir,\n\u001b[0;32m     82\u001b[0m                    \u001b[0mconstants\u001b[0m\u001b[1;33m.\u001b[0m\u001b[0mSAVED_MODEL_FILENAME_PBTXT\u001b[0m\u001b[1;33m,\u001b[0m\u001b[1;33m\u001b[0m\u001b[1;33m\u001b[0m\u001b[0m\n\u001b[1;32m---> 83\u001b[1;33m                    constants.SAVED_MODEL_FILENAME_PB))\n\u001b[0m\u001b[0;32m     84\u001b[0m \u001b[1;33m\u001b[0m\u001b[0m\n\u001b[0;32m     85\u001b[0m \u001b[1;33m\u001b[0m\u001b[0m\n",
      "\u001b[1;31mOSError\u001b[0m: SavedModel file does not exist at: model/mnist-cnn-18-0.0267.hdf5/{saved_model.pbtxt|saved_model.pb}"
     ]
    }
   ],
   "source": [
    "from tensorflow.keras.models import load_model\n",
    "# del model\n",
    "model = load_model('model/mnist-cnn-18-0.0267.hdf5')"
   ]
  },
  {
   "cell_type": "code",
   "execution_count": 108,
   "metadata": {},
   "outputs": [
    {
     "ename": "NameError",
     "evalue": "name 'model' is not defined",
     "output_type": "error",
     "traceback": [
      "\u001b[1;31m---------------------------------------------------------------------------\u001b[0m",
      "\u001b[1;31mNameError\u001b[0m                                 Traceback (most recent call last)",
      "\u001b[1;32m<ipython-input-108-57218cd23d4a>\u001b[0m in \u001b[0;36m<module>\u001b[1;34m\u001b[0m\n\u001b[0;32m      1\u001b[0m \u001b[1;31m# 테스트 정확도 출력\u001b[0m\u001b[1;33m\u001b[0m\u001b[1;33m\u001b[0m\u001b[1;33m\u001b[0m\u001b[0m\n\u001b[1;32m----> 2\u001b[1;33m \u001b[0mprint\u001b[0m\u001b[1;33m(\u001b[0m\u001b[1;34m\"\\n Test Accuracy: %.4f\"\u001b[0m \u001b[1;33m%\u001b[0m \u001b[1;33m(\u001b[0m\u001b[0mmodel\u001b[0m\u001b[1;33m.\u001b[0m\u001b[0mevaluate\u001b[0m\u001b[1;33m(\u001b[0m\u001b[0mX_test\u001b[0m\u001b[1;33m,\u001b[0m \u001b[0mY_test\u001b[0m\u001b[1;33m,\u001b[0m \u001b[0mverbose\u001b[0m\u001b[1;33m=\u001b[0m\u001b[1;36m0\u001b[0m\u001b[1;33m)\u001b[0m\u001b[1;33m[\u001b[0m\u001b[1;36m1\u001b[0m\u001b[1;33m]\u001b[0m\u001b[1;33m)\u001b[0m\u001b[1;33m)\u001b[0m\u001b[1;33m\u001b[0m\u001b[1;33m\u001b[0m\u001b[0m\n\u001b[0m",
      "\u001b[1;31mNameError\u001b[0m: name 'model' is not defined"
     ]
    }
   ],
   "source": [
    "# 테스트 정확도 출력 \n",
    "print(\"\\n Test Accuracy: %.4f\" % (model.evaluate(X_test, Y_test, verbose=0)[1]))"
   ]
  },
  {
   "cell_type": "code",
   "execution_count": 104,
   "metadata": {},
   "outputs": [],
   "source": [
    " # 테스트셋의 오차\n",
    "y_vloss = history.history['val_loss']\n",
    "\n",
    "# 학습셋의 오차\n",
    "y_loss = history.history['loss']"
   ]
  },
  {
   "cell_type": "code",
   "execution_count": 105,
   "metadata": {},
   "outputs": [
    {
     "data": {
      "image/png": "[encoded data removed]",
      "text/plain": [
       "<Figure size 576x432 with 1 Axes>"
      ]
     },
     "metadata": {
      "needs_background": "light"
     },
     "output_type": "display_data"
    }
   ],
   "source": [
    " # 그래프로 표현\n",
    "x_len = np.arange(1, len(y_loss)+1)\n",
    "plt.figure(figsize=(8,6))\n",
    "plt.plot(x_len, y_vloss, marker='.', c=\"red\", label='Testset_loss')\n",
    "plt.plot(x_len, y_loss, marker='.', c=\"blue\", label='Trainset_loss')\n",
    "\n",
    "# 그래프에 그리드를 주고 레이블을 표시\n",
    "plt.legend(loc='upper right')\n",
    "# plt.axis([0, 20, 0, 0.35])\n",
    "plt.grid()\n",
    "plt.xlabel('epoch')\n",
    "plt.ylabel('loss')\n",
    "plt.show()\n"
   ]
  },
  {
   "cell_type": "code",
   "execution_count": null,
   "metadata": {},
   "outputs": [],
   "source": []
  },
  {
   "cell_type": "code",
   "execution_count": null,
   "metadata": {},
   "outputs": [],
   "source": []
  },
  {
   "cell_type": "code",
   "execution_count": null,
   "metadata": {},
   "outputs": [],
   "source": []
  },
  {
   "cell_type": "code",
   "execution_count": null,
   "metadata": {},
   "outputs": [],
   "source": [
    "\n"
   ]
  }
 ],
 "metadata": {
  "kernelspec": {
   "display_name": "Python 3",
   "language": "python",
   "name": "python3"
  },
  "language_info": {
   "codemirror_mode": {
    "name": "ipython",
    "version": 3
   },
   "file_extension": ".py",
   "mimetype": "text/x-python",
   "name": "python",
   "nbconvert_exporter": "python",
   "pygments_lexer": "ipython3",
   "version": "3.7.7"
  }
 },
 "nbformat": 4,
 "nbformat_minor": 4
}
