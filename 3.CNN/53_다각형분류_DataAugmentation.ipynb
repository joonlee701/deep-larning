{
 "cells": [
  {
   "cell_type": "markdown",
   "metadata": {
    "colab_type": "text",
    "id": "3rG34xrNgE7I"
   },
   "source": [
    "# 원, 삼각형, 사각형 구분하기\n",
    "## 3. Data Augmentation을 사용한 CNN 모델"
   ]
  },
  {
   "cell_type": "code",
   "execution_count": 1,
   "metadata": {
    "colab": {},
    "colab_type": "code",
    "id": "bwA2Lk7gilA1"
   },
   "outputs": [
    {
     "name": "stderr",
     "output_type": "stream",
     "text": [
      "Using TensorFlow backend.\n"
     ]
    }
   ],
   "source": [
    "import numpy as np\n",
    "import tensorflow as tf\n",
    "from tensorflow import keras\n",
    "from keras.models import Sequential \n",
    "from keras.layers import Dense, Flatten, Conv2D, MaxPooling2D\n",
    "from keras.preprocessing.image import ImageDataGenerator"
   ]
  },
  {
   "cell_type": "code",
   "execution_count": 2,
   "metadata": {},
   "outputs": [],
   "source": [
    "# seed 값 설정\n",
    "seed = 2020\n",
    "np.random.seed(seed)\n",
    "tf.random.set_seed(seed)"
   ]
  },
  {
   "cell_type": "markdown",
   "metadata": {
    "colab_type": "text",
    "id": "SjsMBcR0pnzv"
   },
   "source": [
    "### 데이터 부풀리기(Augmentation)"
   ]
  },
  {
   "cell_type": "code",
   "execution_count": 3,
   "metadata": {
    "colab": {},
    "colab_type": "code",
    "id": "aXdBt1YT11ud"
   },
   "outputs": [],
   "source": [
    "from keras.preprocessing.image import array_to_img, img_to_array, load_img"
   ]
  },
  {
   "cell_type": "code",
   "execution_count": 4,
   "metadata": {},
   "outputs": [],
   "source": [
    "# 데이터 부풀리기를 적용한 훈련 데이터 제너레이터\n",
    "\n",
    "# 기존 그래프를 회전하여 움직임\n",
    "train_datagen = ImageDataGenerator(rescale=1./255, \n",
    "                                   rotation_range=15,  # 기울기를 15도 \n",
    "                                   width_shift_range=0.1,   # 좌우를 10%\n",
    "                                   height_shift_range=0.1, # 높이를 10%\n",
    "                                   shear_range=0.5,\n",
    "                                   zoom_range=[0.8, 2.0],\n",
    "                                   horizontal_flip=True,\n",
    "                                   vertical_flip=True,\n",
    "                                   fill_mode='nearest')"
   ]
  },
  {
   "cell_type": "code",
   "execution_count": 5,
   "metadata": {
    "colab": {},
    "colab_type": "code",
    "id": "9Ffv4Qcfkxd0"
   },
   "outputs": [],
   "source": [
    "img = load_img('hard_handwriting_shape/train/triangle/triangle001.png')\n",
    "x = img_to_array(img)\n",
    "x = x.reshape((1,) + x.shape)\n",
    "\n",
    "i = 0\n",
    "\n",
    "# 무한 for loop이니 주의!!!\n",
    "for batch in train_datagen.flow(x, batch_size=1, save_to_dir='preview', \n",
    "                                save_prefix='tri', save_format='png'):\n",
    "    i += 1\n",
    "    if i > 30: \n",
    "        break"
   ]
  },
  {
   "cell_type": "markdown",
   "metadata": {
    "colab_type": "text",
    "id": "2VFAvDns3n9d"
   },
   "source": [
    "### 데이터셋 생성하기"
   ]
  },
  {
   "cell_type": "code",
   "execution_count": 14,
   "metadata": {
    "colab": {
     "base_uri": "https://localhost:8080/",
     "height": 53
    },
    "colab_type": "code",
    "id": "g8ZZac3U3nWj",
    "outputId": "d6911fa9-f142-489d-aaac-c442e2a563b1"
   },
   "outputs": [
    {
     "name": "stdout",
     "output_type": "stream",
     "text": [
      "Found 45 images belonging to 3 classes.\n",
      "Found 15 images belonging to 3 classes.\n"
     ]
    }
   ],
   "source": [
    "train_generator = train_datagen.flow_from_directory(\n",
    "        'hard_handwriting_shape/train',\n",
    "        target_size=(24, 24),\n",
    "        batch_size=3,\n",
    "        class_mode='categorical')\n",
    "\n",
    "test_datagen = ImageDataGenerator(rescale=1./255)\n",
    "\n",
    "test_generator = test_datagen.flow_from_directory(\n",
    "        'hard_handwriting_shape/test',\n",
    "        target_size=(24, 24),    \n",
    "        batch_size=3,\n",
    "        class_mode='categorical')"
   ]
  },
  {
   "cell_type": "code",
   "execution_count": 17,
   "metadata": {},
   "outputs": [
    {
     "ename": "AttributeError",
     "evalue": "'DirectoryIterator' object has no attribute 'shape'",
     "output_type": "error",
     "traceback": [
      "\u001b[1;31m---------------------------------------------------------------------------\u001b[0m",
      "\u001b[1;31mAttributeError\u001b[0m                            Traceback (most recent call last)",
      "\u001b[1;32m<ipython-input-17-d481cf75254d>\u001b[0m in \u001b[0;36m<module>\u001b[1;34m\u001b[0m\n\u001b[1;32m----> 1\u001b[1;33m \u001b[0mtrain_generator\u001b[0m\u001b[1;33m.\u001b[0m\u001b[0mshape\u001b[0m\u001b[1;33m(\u001b[0m\u001b[1;33m)\u001b[0m\u001b[1;33m\u001b[0m\u001b[1;33m\u001b[0m\u001b[0m\n\u001b[0m",
      "\u001b[1;31mAttributeError\u001b[0m: 'DirectoryIterator' object has no attribute 'shape'"
     ]
    }
   ],
   "source": []
  },
  {
   "cell_type": "markdown",
   "metadata": {
    "colab_type": "text",
    "id": "K88bSm6wpwsK"
   },
   "source": [
    "### 모델 구성하기"
   ]
  },
  {
   "cell_type": "code",
   "execution_count": 7,
   "metadata": {
    "colab": {
     "base_uri": "https://localhost:8080/",
     "height": 377
    },
    "colab_type": "code",
    "id": "G5TOCJzIpVfR",
    "outputId": "50fcbc1c-f6b5-4923-9e24-0e29f5da5f38"
   },
   "outputs": [
    {
     "name": "stdout",
     "output_type": "stream",
     "text": [
      "Model: \"sequential_1\"\n",
      "_________________________________________________________________\n",
      "Layer (type)                 Output Shape              Param #   \n",
      "=================================================================\n",
      "conv2d_1 (Conv2D)            (None, 22, 22, 32)        896       \n",
      "_________________________________________________________________\n",
      "conv2d_2 (Conv2D)            (None, 20, 20, 64)        18496     \n",
      "_________________________________________________________________\n",
      "max_pooling2d_1 (MaxPooling2 (None, 10, 10, 64)        0         \n",
      "_________________________________________________________________\n",
      "flatten_1 (Flatten)          (None, 6400)              0         \n",
      "_________________________________________________________________\n",
      "dense_1 (Dense)              (None, 128)               819328    \n",
      "_________________________________________________________________\n",
      "dense_2 (Dense)              (None, 3)                 387       \n",
      "=================================================================\n",
      "Total params: 839,107\n",
      "Trainable params: 839,107\n",
      "Non-trainable params: 0\n",
      "_________________________________________________________________\n"
     ]
    }
   ],
   "source": [
    "model = Sequential()\n",
    "model.add(Conv2D(32, kernel_size=(3, 3),\n",
    "                 activation='relu', input_shape=(24,24,3)))\n",
    "model.add(Conv2D(64, (3, 3), activation='relu'))\n",
    "model.add(MaxPooling2D(pool_size=(2, 2)))\n",
    "model.add(Flatten())\n",
    "model.add(Dense(128, activation='relu'))\n",
    "model.add(Dense(3, activation='softmax'))\n",
    "model.summary()"
   ]
  },
  {
   "cell_type": "markdown",
   "metadata": {
    "colab_type": "text",
    "id": "wrjhuhJ2tEeA"
   },
   "source": [
    "### 모델 학습과정 설정하기"
   ]
  },
  {
   "cell_type": "code",
   "execution_count": 8,
   "metadata": {
    "colab": {},
    "colab_type": "code",
    "id": "hBUFfHV6sSRW"
   },
   "outputs": [],
   "source": [
    "model.compile(loss='categorical_crossentropy', \n",
    "              optimizer='adam', metrics=['accuracy'])"
   ]
  },
  {
   "cell_type": "markdown",
   "metadata": {
    "colab_type": "text",
    "id": "sZ_WQ05itPr9"
   },
   "source": [
    "### 모델 학습시키기\n",
    "- 첫번째 인자 : 훈련데이터셋을 제공할 제네레이터를 지정. 본 예제에서는 앞서 생성한 train_generator으로 지정.\n",
    "- steps_per_epoch : 한 epoch에 사용한 스텝 수를 지정. 총 45개의 훈련 샘플이 있고 배치사이즈가 3이므로 15 스텝으로 지정.\n",
    "- epochs : 전체 훈련 데이터셋에 대해 학습 반복 횟수를 지정. 200번을 반복적으로 학습.\n",
    "- validation_data : 검증데이터셋을 제공할 제네레이터를 지정. 본 예제에서는 앞서 생성한 validation_generator으로 지정.\n",
    "- validation_steps : 한 epoch 종료 시 마다 검증할 때 사용되는 검증 스텝 수를 지정. 홍 15개의 검증 샘플이 있고 배치사이즈가 3이므로 5 스텝으로 지정."
   ]
  },
  {
   "cell_type": "code",
   "execution_count": 10,
   "metadata": {
    "colab": {
     "base_uri": "https://localhost:8080/",
     "height": 1000
    },
    "colab_type": "code",
    "id": "oMzc0kFdtLMY",
    "outputId": "820a8ed5-d798-4b67-bac7-bb1b9384ab93"
   },
   "outputs": [
    {
     "name": "stdout",
     "output_type": "stream",
     "text": [
      "Epoch 1/200\n",
      "15/15 [==============================] - 0s 17ms/step - loss: 1.1680 - accuracy: 0.3778 - val_loss: 1.0693 - val_accuracy: 0.3333\n",
      "Epoch 2/200\n",
      "15/15 [==============================] - 0s 11ms/step - loss: 1.0440 - accuracy: 0.5111 - val_loss: 1.5539 - val_accuracy: 0.4667\n",
      "Epoch 3/200\n",
      "15/15 [==============================] - 0s 10ms/step - loss: 0.9556 - accuracy: 0.5111 - val_loss: 0.8743 - val_accuracy: 0.4000\n",
      "Epoch 4/200\n",
      "15/15 [==============================] - 0s 10ms/step - loss: 0.7375 - accuracy: 0.6889 - val_loss: 0.9512 - val_accuracy: 0.4667\n",
      "Epoch 5/200\n",
      "15/15 [==============================] - 0s 11ms/step - loss: 0.6927 - accuracy: 0.6667 - val_loss: 3.1559 - val_accuracy: 0.4667\n",
      "Epoch 6/200\n",
      "15/15 [==============================] - 0s 10ms/step - loss: 0.5576 - accuracy: 0.8444 - val_loss: 3.9559 - val_accuracy: 0.3333\n",
      "Epoch 7/200\n",
      "15/15 [==============================] - 0s 10ms/step - loss: 0.6393 - accuracy: 0.6444 - val_loss: 1.2176 - val_accuracy: 0.4000\n",
      "Epoch 8/200\n",
      "15/15 [==============================] - 0s 10ms/step - loss: 0.5755 - accuracy: 0.6889 - val_loss: 1.8131 - val_accuracy: 0.5333\n",
      "Epoch 9/200\n",
      "15/15 [==============================] - 0s 10ms/step - loss: 0.3953 - accuracy: 0.8667 - val_loss: 0.0051 - val_accuracy: 0.5333\n",
      "Epoch 10/200\n",
      "15/15 [==============================] - 0s 11ms/step - loss: 0.5105 - accuracy: 0.8444 - val_loss: 0.8782 - val_accuracy: 0.5333\n",
      "Epoch 11/200\n",
      "15/15 [==============================] - 0s 10ms/step - loss: 0.3966 - accuracy: 0.8667 - val_loss: 3.4975 - val_accuracy: 0.4000\n",
      "Epoch 12/200\n",
      "15/15 [==============================] - 0s 11ms/step - loss: 0.5048 - accuracy: 0.7556 - val_loss: 0.7854 - val_accuracy: 0.4667\n",
      "Epoch 13/200\n",
      "15/15 [==============================] - 0s 11ms/step - loss: 0.2363 - accuracy: 0.9111 - val_loss: 2.9962 - val_accuracy: 0.4667\n",
      "Epoch 14/200\n",
      "15/15 [==============================] - 0s 11ms/step - loss: 0.2194 - accuracy: 0.9111 - val_loss: 2.8511 - val_accuracy: 0.4667\n",
      "Epoch 15/200\n",
      "15/15 [==============================] - 0s 11ms/step - loss: 0.0996 - accuracy: 0.9556 - val_loss: 2.3333 - val_accuracy: 0.6667\n",
      "Epoch 16/200\n",
      "15/15 [==============================] - 0s 11ms/step - loss: 0.1908 - accuracy: 0.9111 - val_loss: 3.5512 - val_accuracy: 0.6667\n",
      "Epoch 17/200\n",
      "15/15 [==============================] - 0s 11ms/step - loss: 0.1095 - accuracy: 0.9778 - val_loss: 2.1591 - val_accuracy: 0.4000\n",
      "Epoch 18/200\n",
      "15/15 [==============================] - 0s 11ms/step - loss: 0.1344 - accuracy: 0.9333 - val_loss: 2.6778 - val_accuracy: 0.6667\n",
      "Epoch 19/200\n",
      "15/15 [==============================] - 0s 16ms/step - loss: 0.1575 - accuracy: 0.8889 - val_loss: 1.7120 - val_accuracy: 0.6000\n",
      "Epoch 20/200\n",
      "15/15 [==============================] - 0s 11ms/step - loss: 0.0938 - accuracy: 0.9556 - val_loss: 0.2031 - val_accuracy: 0.6667\n",
      "Epoch 21/200\n",
      "15/15 [==============================] - 0s 11ms/step - loss: 0.1049 - accuracy: 0.9778 - val_loss: 1.8839 - val_accuracy: 0.6000\n",
      "Epoch 22/200\n",
      "15/15 [==============================] - 0s 16ms/step - loss: 0.0342 - accuracy: 1.0000 - val_loss: 4.5229 - val_accuracy: 0.6000\n",
      "Epoch 23/200\n",
      "15/15 [==============================] - 0s 10ms/step - loss: 0.1163 - accuracy: 0.9556 - val_loss: 1.1521 - val_accuracy: 0.6000\n",
      "Epoch 24/200\n",
      "15/15 [==============================] - 0s 11ms/step - loss: 0.2049 - accuracy: 0.9333 - val_loss: 0.6036 - val_accuracy: 0.6000\n",
      "Epoch 25/200\n",
      "15/15 [==============================] - 0s 10ms/step - loss: 0.2290 - accuracy: 0.9111 - val_loss: 1.8420 - val_accuracy: 0.6000\n",
      "Epoch 26/200\n",
      "15/15 [==============================] - 0s 11ms/step - loss: 0.1709 - accuracy: 0.9333 - val_loss: 1.7240 - val_accuracy: 0.6667\n",
      "Epoch 27/200\n",
      "15/15 [==============================] - 0s 11ms/step - loss: 0.2840 - accuracy: 0.8889 - val_loss: 2.1993 - val_accuracy: 0.5333\n",
      "Epoch 28/200\n",
      "15/15 [==============================] - 0s 11ms/step - loss: 0.1208 - accuracy: 0.9556 - val_loss: 0.0053 - val_accuracy: 0.6000\n",
      "Epoch 29/200\n",
      "15/15 [==============================] - 0s 11ms/step - loss: 0.2195 - accuracy: 0.9556 - val_loss: 1.4458 - val_accuracy: 0.6667\n",
      "Epoch 30/200\n",
      "15/15 [==============================] - 0s 11ms/step - loss: 0.1226 - accuracy: 0.9333 - val_loss: 3.3368 - val_accuracy: 0.6000\n",
      "Epoch 31/200\n",
      "15/15 [==============================] - 0s 11ms/step - loss: 0.1626 - accuracy: 0.9333 - val_loss: 0.0042 - val_accuracy: 0.6667\n",
      "Epoch 32/200\n",
      "15/15 [==============================] - 0s 11ms/step - loss: 0.1441 - accuracy: 0.9778 - val_loss: 3.6941 - val_accuracy: 0.6000\n",
      "Epoch 33/200\n",
      "15/15 [==============================] - 0s 17ms/step - loss: 0.0474 - accuracy: 0.9778 - val_loss: 2.8969 - val_accuracy: 0.6667\n",
      "Epoch 34/200\n",
      "15/15 [==============================] - 0s 16ms/step - loss: 0.0368 - accuracy: 1.0000 - val_loss: 0.0043 - val_accuracy: 0.7333\n",
      "Epoch 35/200\n",
      "15/15 [==============================] - 0s 11ms/step - loss: 0.0304 - accuracy: 0.9778 - val_loss: 1.9862 - val_accuracy: 0.6667\n",
      "Epoch 36/200\n",
      "15/15 [==============================] - 0s 11ms/step - loss: 0.0354 - accuracy: 0.9778 - val_loss: 3.8434 - val_accuracy: 0.6667\n",
      "Epoch 37/200\n",
      "15/15 [==============================] - 0s 10ms/step - loss: 0.0808 - accuracy: 0.9778 - val_loss: 1.6435e-04 - val_accuracy: 0.6667\n",
      "Epoch 38/200\n",
      "15/15 [==============================] - 0s 11ms/step - loss: 0.0804 - accuracy: 0.9778 - val_loss: 4.0807e-05 - val_accuracy: 0.6667\n",
      "Epoch 39/200\n",
      "15/15 [==============================] - 0s 10ms/step - loss: 0.1324 - accuracy: 0.9778 - val_loss: 0.2215 - val_accuracy: 0.8000\n",
      "Epoch 40/200\n",
      "15/15 [==============================] - 0s 10ms/step - loss: 0.1177 - accuracy: 0.9556 - val_loss: 1.1099 - val_accuracy: 0.7333\n",
      "Epoch 41/200\n",
      "15/15 [==============================] - 0s 11ms/step - loss: 0.0759 - accuracy: 0.9778 - val_loss: 1.2693e-04 - val_accuracy: 0.6667\n",
      "Epoch 42/200\n",
      "15/15 [==============================] - 0s 11ms/step - loss: 0.2058 - accuracy: 0.9333 - val_loss: 3.7127e-04 - val_accuracy: 0.6667\n",
      "Epoch 43/200\n",
      "15/15 [==============================] - 0s 17ms/step - loss: 0.1017 - accuracy: 0.9333 - val_loss: 0.0649 - val_accuracy: 0.6667\n",
      "Epoch 44/200\n",
      "15/15 [==============================] - 0s 16ms/step - loss: 0.1178 - accuracy: 0.9556 - val_loss: 0.0227 - val_accuracy: 0.7333\n",
      "Epoch 45/200\n",
      "15/15 [==============================] - 0s 11ms/step - loss: 0.0342 - accuracy: 1.0000 - val_loss: 4.0904 - val_accuracy: 0.7333\n",
      "Epoch 46/200\n",
      "15/15 [==============================] - 0s 10ms/step - loss: 0.0515 - accuracy: 0.9778 - val_loss: 3.7417e-04 - val_accuracy: 0.7333\n",
      "Epoch 47/200\n",
      "15/15 [==============================] - 0s 11ms/step - loss: 0.0357 - accuracy: 0.9778 - val_loss: 0.0164 - val_accuracy: 0.7333\n",
      "Epoch 48/200\n",
      "15/15 [==============================] - 0s 17ms/step - loss: 0.0063 - accuracy: 1.0000 - val_loss: 0.6807 - val_accuracy: 0.6667\n",
      "Epoch 49/200\n",
      "15/15 [==============================] - 0s 16ms/step - loss: 0.1046 - accuracy: 0.9778 - val_loss: 3.7078 - val_accuracy: 0.7333\n",
      "Epoch 50/200\n",
      "15/15 [==============================] - 0s 10ms/step - loss: 0.0564 - accuracy: 0.9778 - val_loss: 0.8174 - val_accuracy: 0.8000\n",
      "Epoch 51/200\n",
      "15/15 [==============================] - 0s 11ms/step - loss: 0.0883 - accuracy: 0.9778 - val_loss: 6.7522e-04 - val_accuracy: 0.7333\n",
      "Epoch 52/200\n",
      "15/15 [==============================] - 0s 10ms/step - loss: 0.0629 - accuracy: 0.9778 - val_loss: 0.0152 - val_accuracy: 0.7333\n",
      "Epoch 53/200\n",
      "15/15 [==============================] - 0s 11ms/step - loss: 0.0048 - accuracy: 1.0000 - val_loss: 4.2359 - val_accuracy: 0.7333\n",
      "Epoch 54/200\n",
      "15/15 [==============================] - 0s 11ms/step - loss: 0.0256 - accuracy: 1.0000 - val_loss: 1.3230e-04 - val_accuracy: 0.7333\n",
      "Epoch 55/200\n",
      "15/15 [==============================] - 0s 11ms/step - loss: 0.0041 - accuracy: 1.0000 - val_loss: 3.6261 - val_accuracy: 0.8000\n",
      "Epoch 56/200\n",
      "15/15 [==============================] - 0s 11ms/step - loss: 0.0708 - accuracy: 0.9556 - val_loss: 5.4550 - val_accuracy: 0.7333\n",
      "Epoch 57/200\n",
      "15/15 [==============================] - 0s 11ms/step - loss: 0.1226 - accuracy: 0.9111 - val_loss: 6.9222 - val_accuracy: 0.6667\n",
      "Epoch 58/200\n"
     ]
    },
    {
     "name": "stdout",
     "output_type": "stream",
     "text": [
      "15/15 [==============================] - 0s 11ms/step - loss: 0.1811 - accuracy: 0.9556 - val_loss: 8.6515e-04 - val_accuracy: 0.8000\n",
      "Epoch 59/200\n",
      "15/15 [==============================] - 0s 11ms/step - loss: 0.0288 - accuracy: 1.0000 - val_loss: 4.0900 - val_accuracy: 0.8000\n",
      "Epoch 60/200\n",
      "15/15 [==============================] - 0s 11ms/step - loss: 0.0254 - accuracy: 1.0000 - val_loss: 0.0190 - val_accuracy: 0.8000\n",
      "Epoch 61/200\n",
      "15/15 [==============================] - 0s 11ms/step - loss: 0.0670 - accuracy: 0.9778 - val_loss: 11.0194 - val_accuracy: 0.7333\n",
      "Epoch 62/200\n",
      "15/15 [==============================] - 0s 11ms/step - loss: 0.0245 - accuracy: 1.0000 - val_loss: 4.7512 - val_accuracy: 0.7333\n",
      "Epoch 63/200\n",
      "15/15 [==============================] - 0s 11ms/step - loss: 0.1348 - accuracy: 0.9556 - val_loss: 6.7984 - val_accuracy: 0.7333\n",
      "Epoch 64/200\n",
      "15/15 [==============================] - 0s 11ms/step - loss: 0.1475 - accuracy: 0.9333 - val_loss: 5.9938 - val_accuracy: 0.7333\n",
      "Epoch 65/200\n",
      "15/15 [==============================] - 0s 11ms/step - loss: 0.0885 - accuracy: 0.9778 - val_loss: 2.4598 - val_accuracy: 0.8000\n",
      "Epoch 66/200\n",
      "15/15 [==============================] - 0s 11ms/step - loss: 0.0698 - accuracy: 0.9778 - val_loss: 3.1983 - val_accuracy: 0.6000\n",
      "Epoch 67/200\n",
      "15/15 [==============================] - 0s 11ms/step - loss: 0.0708 - accuracy: 0.9333 - val_loss: 4.4470 - val_accuracy: 0.6667\n",
      "Epoch 68/200\n",
      "15/15 [==============================] - 0s 11ms/step - loss: 0.0156 - accuracy: 1.0000 - val_loss: 3.2523 - val_accuracy: 0.8000\n",
      "Epoch 69/200\n",
      "15/15 [==============================] - 0s 11ms/step - loss: 0.0371 - accuracy: 1.0000 - val_loss: 5.3222 - val_accuracy: 0.7333\n",
      "Epoch 70/200\n",
      "15/15 [==============================] - 0s 16ms/step - loss: 0.0600 - accuracy: 0.9556 - val_loss: 3.8134 - val_accuracy: 0.6667\n",
      "Epoch 71/200\n",
      "15/15 [==============================] - 0s 11ms/step - loss: 0.0144 - accuracy: 1.0000 - val_loss: 7.8578 - val_accuracy: 0.6000\n",
      "Epoch 72/200\n",
      "15/15 [==============================] - 0s 11ms/step - loss: 0.0029 - accuracy: 1.0000 - val_loss: 8.4168 - val_accuracy: 0.6000\n",
      "Epoch 73/200\n",
      "15/15 [==============================] - 0s 11ms/step - loss: 0.0073 - accuracy: 1.0000 - val_loss: 1.1961e-05 - val_accuracy: 0.6667\n",
      "Epoch 74/200\n",
      "15/15 [==============================] - 0s 11ms/step - loss: 0.0020 - accuracy: 1.0000 - val_loss: 0.0622 - val_accuracy: 0.8000\n",
      "Epoch 75/200\n",
      "15/15 [==============================] - 0s 11ms/step - loss: 0.0012 - accuracy: 1.0000 - val_loss: 2.2468 - val_accuracy: 0.6667\n",
      "Epoch 76/200\n",
      "15/15 [==============================] - 0s 11ms/step - loss: 0.1298 - accuracy: 0.9333 - val_loss: 4.3313e-06 - val_accuracy: 0.7333\n",
      "Epoch 77/200\n",
      "15/15 [==============================] - 0s 16ms/step - loss: 0.0477 - accuracy: 0.9778 - val_loss: 1.5644 - val_accuracy: 0.6667\n",
      "Epoch 78/200\n",
      "15/15 [==============================] - 0s 11ms/step - loss: 0.0418 - accuracy: 0.9778 - val_loss: 0.0161 - val_accuracy: 0.7333\n",
      "Epoch 79/200\n",
      "15/15 [==============================] - 0s 11ms/step - loss: 0.0128 - accuracy: 1.0000 - val_loss: 1.1406 - val_accuracy: 0.7333\n",
      "Epoch 80/200\n",
      "15/15 [==============================] - 0s 11ms/step - loss: 0.0115 - accuracy: 1.0000 - val_loss: 0.0101 - val_accuracy: 0.7333\n",
      "Epoch 81/200\n",
      "15/15 [==============================] - 0s 11ms/step - loss: 0.0047 - accuracy: 1.0000 - val_loss: 1.3976 - val_accuracy: 0.7333\n",
      "Epoch 82/200\n",
      "15/15 [==============================] - 0s 11ms/step - loss: 0.1564 - accuracy: 0.9778 - val_loss: 3.7891 - val_accuracy: 0.6667\n",
      "Epoch 83/200\n",
      "15/15 [==============================] - 0s 10ms/step - loss: 0.1056 - accuracy: 0.9778 - val_loss: 4.6250 - val_accuracy: 0.6667\n",
      "Epoch 84/200\n",
      "15/15 [==============================] - 0s 11ms/step - loss: 0.0246 - accuracy: 1.0000 - val_loss: 9.1781e-05 - val_accuracy: 0.6667\n",
      "Epoch 85/200\n",
      "15/15 [==============================] - 0s 10ms/step - loss: 0.0044 - accuracy: 1.0000 - val_loss: 9.3618 - val_accuracy: 0.6667\n",
      "Epoch 86/200\n",
      "15/15 [==============================] - 0s 11ms/step - loss: 0.0883 - accuracy: 0.9778 - val_loss: 5.0950 - val_accuracy: 0.6667\n",
      "Epoch 87/200\n",
      "15/15 [==============================] - 0s 11ms/step - loss: 0.0384 - accuracy: 0.9778 - val_loss: 6.2171 - val_accuracy: 0.5333\n",
      "Epoch 88/200\n",
      "15/15 [==============================] - 0s 11ms/step - loss: 0.1098 - accuracy: 0.9556 - val_loss: 2.2878 - val_accuracy: 0.6667\n",
      "Epoch 89/200\n",
      "15/15 [==============================] - 0s 16ms/step - loss: 0.0336 - accuracy: 0.9778 - val_loss: 4.6631 - val_accuracy: 0.7333\n",
      "Epoch 90/200\n",
      "15/15 [==============================] - 0s 11ms/step - loss: 0.1046 - accuracy: 0.9778 - val_loss: 4.8148 - val_accuracy: 0.6000\n",
      "Epoch 91/200\n",
      "15/15 [==============================] - 0s 11ms/step - loss: 0.1161 - accuracy: 0.9778 - val_loss: 5.0727 - val_accuracy: 0.6667\n",
      "Epoch 92/200\n",
      "15/15 [==============================] - 0s 11ms/step - loss: 0.1467 - accuracy: 0.9556 - val_loss: 0.1965 - val_accuracy: 0.7333\n",
      "Epoch 93/200\n",
      "15/15 [==============================] - 0s 11ms/step - loss: 0.0416 - accuracy: 1.0000 - val_loss: 4.9808 - val_accuracy: 0.6000\n",
      "Epoch 94/200\n",
      "15/15 [==============================] - 0s 10ms/step - loss: 0.0189 - accuracy: 1.0000 - val_loss: 4.8029 - val_accuracy: 0.6667\n",
      "Epoch 95/200\n",
      "15/15 [==============================] - 0s 11ms/step - loss: 0.0259 - accuracy: 0.9778 - val_loss: 10.1804 - val_accuracy: 0.6667\n",
      "Epoch 96/200\n",
      "15/15 [==============================] - 0s 10ms/step - loss: 0.0112 - accuracy: 1.0000 - val_loss: 3.5202 - val_accuracy: 0.6667\n",
      "Epoch 97/200\n",
      "15/15 [==============================] - 0s 11ms/step - loss: 0.0462 - accuracy: 0.9778 - val_loss: 4.2588 - val_accuracy: 0.6667\n",
      "Epoch 98/200\n",
      "15/15 [==============================] - 0s 11ms/step - loss: 0.1365 - accuracy: 0.9556 - val_loss: 2.9271 - val_accuracy: 0.7333\n",
      "Epoch 99/200\n",
      "15/15 [==============================] - 0s 11ms/step - loss: 0.0748 - accuracy: 0.9778 - val_loss: 5.7270 - val_accuracy: 0.5333\n",
      "Epoch 100/200\n",
      "15/15 [==============================] - 0s 11ms/step - loss: 0.1458 - accuracy: 0.9556 - val_loss: 0.0561 - val_accuracy: 0.8000\n",
      "Epoch 101/200\n",
      "15/15 [==============================] - 0s 11ms/step - loss: 0.1338 - accuracy: 0.9111 - val_loss: 3.1772 - val_accuracy: 0.6667\n",
      "Epoch 102/200\n",
      "15/15 [==============================] - 0s 16ms/step - loss: 0.1756 - accuracy: 0.9778 - val_loss: 7.2017 - val_accuracy: 0.6000\n",
      "Epoch 103/200\n",
      "15/15 [==============================] - 0s 11ms/step - loss: 0.0982 - accuracy: 0.9778 - val_loss: 8.1334 - val_accuracy: 0.6667\n",
      "Epoch 104/200\n",
      "15/15 [==============================] - 0s 11ms/step - loss: 0.0791 - accuracy: 0.9778 - val_loss: 5.7170e-04 - val_accuracy: 0.8000\n",
      "Epoch 105/200\n",
      "15/15 [==============================] - 0s 11ms/step - loss: 0.0963 - accuracy: 0.9778 - val_loss: 2.9576 - val_accuracy: 0.6667\n",
      "Epoch 106/200\n",
      "15/15 [==============================] - 0s 16ms/step - loss: 0.0446 - accuracy: 0.9778 - val_loss: 3.3159 - val_accuracy: 0.6667\n",
      "Epoch 107/200\n",
      "15/15 [==============================] - 0s 11ms/step - loss: 0.0039 - accuracy: 1.0000 - val_loss: 0.0011 - val_accuracy: 0.6667\n",
      "Epoch 108/200\n",
      "15/15 [==============================] - 0s 11ms/step - loss: 0.0318 - accuracy: 1.0000 - val_loss: 3.1401e-04 - val_accuracy: 0.6667\n",
      "Epoch 109/200\n",
      "15/15 [==============================] - 0s 11ms/step - loss: 0.0111 - accuracy: 1.0000 - val_loss: 4.3351 - val_accuracy: 0.7333\n",
      "Epoch 110/200\n",
      "15/15 [==============================] - 0s 11ms/step - loss: 0.0082 - accuracy: 1.0000 - val_loss: 1.2471 - val_accuracy: 0.7333\n",
      "Epoch 111/200\n",
      "15/15 [==============================] - 0s 11ms/step - loss: 0.0608 - accuracy: 0.9778 - val_loss: 2.7188 - val_accuracy: 0.7333\n",
      "Epoch 112/200\n",
      "15/15 [==============================] - 0s 11ms/step - loss: 0.0045 - accuracy: 1.0000 - val_loss: 0.3200 - val_accuracy: 0.7333\n",
      "Epoch 113/200\n",
      "15/15 [==============================] - 0s 11ms/step - loss: 0.0325 - accuracy: 1.0000 - val_loss: 4.4549 - val_accuracy: 0.7333\n",
      "Epoch 114/200\n",
      "15/15 [==============================] - 0s 11ms/step - loss: 0.0051 - accuracy: 1.0000 - val_loss: 9.8148e-06 - val_accuracy: 0.7333\n",
      "Epoch 115/200\n"
     ]
    },
    {
     "name": "stdout",
     "output_type": "stream",
     "text": [
      "15/15 [==============================] - 0s 16ms/step - loss: 0.0107 - accuracy: 1.0000 - val_loss: 0.0114 - val_accuracy: 0.7333\n",
      "Epoch 116/200\n",
      "15/15 [==============================] - 0s 11ms/step - loss: 0.1038 - accuracy: 0.9778 - val_loss: 3.8332 - val_accuracy: 0.7333\n",
      "Epoch 117/200\n",
      "15/15 [==============================] - 0s 11ms/step - loss: 0.0044 - accuracy: 1.0000 - val_loss: 5.2794 - val_accuracy: 0.7333\n",
      "Epoch 118/200\n",
      "15/15 [==============================] - 0s 11ms/step - loss: 0.0078 - accuracy: 1.0000 - val_loss: 4.8762 - val_accuracy: 0.7333\n",
      "Epoch 119/200\n",
      "15/15 [==============================] - 0s 11ms/step - loss: 0.0056 - accuracy: 1.0000 - val_loss: 5.9748 - val_accuracy: 0.7333\n",
      "Epoch 120/200\n",
      "15/15 [==============================] - 0s 11ms/step - loss: 0.0058 - accuracy: 1.0000 - val_loss: 3.4173e-06 - val_accuracy: 0.7333\n",
      "Epoch 121/200\n",
      "15/15 [==============================] - 0s 11ms/step - loss: 0.0021 - accuracy: 1.0000 - val_loss: 4.2015 - val_accuracy: 0.7333\n",
      "Epoch 122/200\n",
      "15/15 [==============================] - 0s 11ms/step - loss: 0.0126 - accuracy: 1.0000 - val_loss: 0.0912 - val_accuracy: 0.7333\n",
      "Epoch 123/200\n",
      "15/15 [==============================] - 0s 11ms/step - loss: 0.0124 - accuracy: 1.0000 - val_loss: 0.0010 - val_accuracy: 0.7333\n",
      "Epoch 124/200\n",
      "15/15 [==============================] - 0s 11ms/step - loss: 0.0065 - accuracy: 1.0000 - val_loss: 0.0010 - val_accuracy: 0.7333\n",
      "Epoch 125/200\n",
      "15/15 [==============================] - 0s 11ms/step - loss: 7.2180e-04 - accuracy: 1.0000 - val_loss: 3.9925 - val_accuracy: 0.7333\n",
      "Epoch 126/200\n",
      "15/15 [==============================] - 0s 11ms/step - loss: 0.0012 - accuracy: 1.0000 - val_loss: 0.4198 - val_accuracy: 0.7333\n",
      "Epoch 127/200\n",
      "15/15 [==============================] - 0s 11ms/step - loss: 0.0036 - accuracy: 1.0000 - val_loss: 0.3734 - val_accuracy: 0.7333\n",
      "Epoch 128/200\n",
      "15/15 [==============================] - 0s 11ms/step - loss: 0.0055 - accuracy: 1.0000 - val_loss: 11.9693 - val_accuracy: 0.7333\n",
      "Epoch 129/200\n",
      "15/15 [==============================] - 0s 16ms/step - loss: 0.0076 - accuracy: 1.0000 - val_loss: 7.9473e-07 - val_accuracy: 0.7333\n",
      "Epoch 130/200\n",
      "15/15 [==============================] - 0s 11ms/step - loss: 0.0148 - accuracy: 1.0000 - val_loss: 0.5257 - val_accuracy: 0.7333\n",
      "Epoch 131/200\n",
      "15/15 [==============================] - 0s 16ms/step - loss: 2.3104e-04 - accuracy: 1.0000 - val_loss: 6.7366 - val_accuracy: 0.7333\n",
      "Epoch 132/200\n",
      "15/15 [==============================] - 0s 10ms/step - loss: 0.0496 - accuracy: 0.9778 - val_loss: 0.4319 - val_accuracy: 0.7333\n",
      "Epoch 133/200\n",
      "15/15 [==============================] - 0s 11ms/step - loss: 0.0164 - accuracy: 1.0000 - val_loss: 0.2743 - val_accuracy: 0.6667\n",
      "Epoch 134/200\n",
      "15/15 [==============================] - 0s 10ms/step - loss: 0.0010 - accuracy: 1.0000 - val_loss: 0.0181 - val_accuracy: 0.6667\n",
      "Epoch 135/200\n",
      "15/15 [==============================] - 0s 12ms/step - loss: 0.0549 - accuracy: 0.9778 - val_loss: 1.4595 - val_accuracy: 0.6667\n",
      "Epoch 136/200\n",
      "15/15 [==============================] - 0s 11ms/step - loss: 0.0364 - accuracy: 0.9778 - val_loss: 0.0811 - val_accuracy: 0.6667\n",
      "Epoch 137/200\n",
      "15/15 [==============================] - 0s 11ms/step - loss: 0.0114 - accuracy: 1.0000 - val_loss: 4.5129 - val_accuracy: 0.6667\n",
      "Epoch 138/200\n",
      "15/15 [==============================] - 0s 11ms/step - loss: 0.1664 - accuracy: 0.9111 - val_loss: 4.1174 - val_accuracy: 0.7333\n",
      "Epoch 139/200\n",
      "15/15 [==============================] - 0s 11ms/step - loss: 0.0377 - accuracy: 0.9778 - val_loss: 5.4112 - val_accuracy: 0.6667\n",
      "Epoch 140/200\n",
      "15/15 [==============================] - 0s 11ms/step - loss: 0.1033 - accuracy: 0.9556 - val_loss: 4.1825 - val_accuracy: 0.7333\n",
      "Epoch 141/200\n",
      "15/15 [==============================] - 0s 11ms/step - loss: 0.1919 - accuracy: 0.9556 - val_loss: 5.6541 - val_accuracy: 0.7333\n",
      "Epoch 142/200\n",
      "15/15 [==============================] - 0s 11ms/step - loss: 0.0194 - accuracy: 1.0000 - val_loss: 3.7261 - val_accuracy: 0.6667\n",
      "Epoch 143/200\n",
      "15/15 [==============================] - 0s 16ms/step - loss: 0.0209 - accuracy: 1.0000 - val_loss: 2.9386 - val_accuracy: 0.8000\n",
      "Epoch 144/200\n",
      "15/15 [==============================] - 0s 11ms/step - loss: 0.0607 - accuracy: 0.9778 - val_loss: 0.0035 - val_accuracy: 0.7333\n",
      "Epoch 145/200\n",
      "15/15 [==============================] - 0s 11ms/step - loss: 0.0039 - accuracy: 1.0000 - val_loss: 7.7638 - val_accuracy: 0.6667\n",
      "Epoch 146/200\n",
      "15/15 [==============================] - 0s 11ms/step - loss: 0.0340 - accuracy: 0.9778 - val_loss: 0.0113 - val_accuracy: 0.6667\n",
      "Epoch 147/200\n",
      "15/15 [==============================] - 0s 11ms/step - loss: 0.0088 - accuracy: 1.0000 - val_loss: 0.0050 - val_accuracy: 0.6667\n",
      "Epoch 148/200\n",
      "15/15 [==============================] - 0s 11ms/step - loss: 0.0830 - accuracy: 0.9778 - val_loss: 3.3247e-04 - val_accuracy: 0.6667\n",
      "Epoch 149/200\n",
      "15/15 [==============================] - 0s 11ms/step - loss: 0.0140 - accuracy: 1.0000 - val_loss: 3.3872 - val_accuracy: 0.6667\n",
      "Epoch 150/200\n",
      "15/15 [==============================] - 0s 11ms/step - loss: 0.0266 - accuracy: 1.0000 - val_loss: 6.0041 - val_accuracy: 0.6667\n",
      "Epoch 151/200\n",
      "15/15 [==============================] - 0s 11ms/step - loss: 0.0154 - accuracy: 1.0000 - val_loss: 6.2267 - val_accuracy: 0.6667\n",
      "Epoch 152/200\n",
      "15/15 [==============================] - 0s 11ms/step - loss: 0.0088 - accuracy: 1.0000 - val_loss: 3.2525 - val_accuracy: 0.6667\n",
      "Epoch 153/200\n",
      "15/15 [==============================] - 0s 11ms/step - loss: 0.0578 - accuracy: 0.9778 - val_loss: 4.5453 - val_accuracy: 0.6667\n",
      "Epoch 154/200\n",
      "15/15 [==============================] - 0s 11ms/step - loss: 0.0101 - accuracy: 1.0000 - val_loss: 4.4406 - val_accuracy: 0.6667\n",
      "Epoch 155/200\n",
      "15/15 [==============================] - 0s 11ms/step - loss: 0.0055 - accuracy: 1.0000 - val_loss: 2.8525 - val_accuracy: 0.6667\n",
      "Epoch 156/200\n",
      "15/15 [==============================] - 0s 11ms/step - loss: 0.1190 - accuracy: 0.9778 - val_loss: 2.8044 - val_accuracy: 0.6667\n",
      "Epoch 157/200\n",
      "15/15 [==============================] - 0s 11ms/step - loss: 0.0205 - accuracy: 0.9778 - val_loss: 5.3479 - val_accuracy: 0.6667\n",
      "Epoch 158/200\n",
      "15/15 [==============================] - 0s 11ms/step - loss: 0.0061 - accuracy: 1.0000 - val_loss: 8.3446e-07 - val_accuracy: 0.6667\n",
      "Epoch 159/200\n",
      "15/15 [==============================] - 0s 11ms/step - loss: 0.0022 - accuracy: 1.0000 - val_loss: 9.2377e-05 - val_accuracy: 0.6667\n",
      "Epoch 160/200\n",
      "15/15 [==============================] - 0s 16ms/step - loss: 0.1948 - accuracy: 0.9556 - val_loss: 3.4455 - val_accuracy: 0.7333\n",
      "Epoch 161/200\n",
      "15/15 [==============================] - 0s 11ms/step - loss: 0.0333 - accuracy: 0.9778 - val_loss: 0.7249 - val_accuracy: 0.6667\n",
      "Epoch 162/200\n",
      "15/15 [==============================] - 0s 11ms/step - loss: 0.0033 - accuracy: 1.0000 - val_loss: 6.6361 - val_accuracy: 0.6667\n",
      "Epoch 163/200\n",
      "15/15 [==============================] - 0s 11ms/step - loss: 0.1054 - accuracy: 0.9556 - val_loss: 6.8097 - val_accuracy: 0.6667\n",
      "Epoch 164/200\n",
      "15/15 [==============================] - 0s 10ms/step - loss: 0.0116 - accuracy: 1.0000 - val_loss: 2.5674 - val_accuracy: 0.6667\n",
      "Epoch 165/200\n",
      "15/15 [==============================] - 0s 11ms/step - loss: 0.0676 - accuracy: 0.9556 - val_loss: 3.5960e-05 - val_accuracy: 0.6667\n",
      "Epoch 166/200\n",
      "15/15 [==============================] - 0s 11ms/step - loss: 0.0854 - accuracy: 0.9556 - val_loss: 0.0016 - val_accuracy: 0.7333\n",
      "Epoch 167/200\n",
      "15/15 [==============================] - 0s 11ms/step - loss: 0.0133 - accuracy: 1.0000 - val_loss: 2.6673 - val_accuracy: 0.6667\n",
      "Epoch 168/200\n",
      "15/15 [==============================] - 0s 11ms/step - loss: 0.0127 - accuracy: 1.0000 - val_loss: 5.9092 - val_accuracy: 0.7333\n",
      "Epoch 169/200\n",
      "15/15 [==============================] - 0s 11ms/step - loss: 0.0067 - accuracy: 1.0000 - val_loss: 12.6095 - val_accuracy: 0.7333\n",
      "Epoch 170/200\n",
      "15/15 [==============================] - 0s 11ms/step - loss: 5.8730e-04 - accuracy: 1.0000 - val_loss: 6.3785 - val_accuracy: 0.7333\n",
      "Epoch 171/200\n",
      "15/15 [==============================] - 0s 17ms/step - loss: 0.0023 - accuracy: 1.0000 - val_loss: 2.2358 - val_accuracy: 0.7333\n"
     ]
    },
    {
     "name": "stdout",
     "output_type": "stream",
     "text": [
      "Epoch 172/200\n",
      "15/15 [==============================] - 0s 16ms/step - loss: 0.0350 - accuracy: 0.9778 - val_loss: 0.1678 - val_accuracy: 0.6667\n",
      "Epoch 173/200\n",
      "15/15 [==============================] - 0s 10ms/step - loss: 0.0715 - accuracy: 0.9556 - val_loss: 0.6466 - val_accuracy: 0.6000\n",
      "Epoch 174/200\n",
      "15/15 [==============================] - 0s 10ms/step - loss: 0.0924 - accuracy: 0.9556 - val_loss: 3.4425 - val_accuracy: 0.7333\n",
      "Epoch 175/200\n",
      "15/15 [==============================] - 0s 10ms/step - loss: 0.1147 - accuracy: 0.9556 - val_loss: 0.0345 - val_accuracy: 0.7333\n",
      "Epoch 176/200\n",
      "15/15 [==============================] - 0s 11ms/step - loss: 0.0067 - accuracy: 1.0000 - val_loss: 3.5721 - val_accuracy: 0.7333\n",
      "Epoch 177/200\n",
      "15/15 [==============================] - 0s 10ms/step - loss: 0.0092 - accuracy: 1.0000 - val_loss: 5.6498e-04 - val_accuracy: 0.7333\n",
      "Epoch 178/200\n",
      "15/15 [==============================] - 0s 10ms/step - loss: 0.0010 - accuracy: 1.0000 - val_loss: 3.2764 - val_accuracy: 0.7333\n",
      "Epoch 179/200\n",
      "15/15 [==============================] - 0s 10ms/step - loss: 0.0316 - accuracy: 0.9778 - val_loss: 0.0020 - val_accuracy: 0.7333\n",
      "Epoch 180/200\n",
      "15/15 [==============================] - 0s 11ms/step - loss: 0.0290 - accuracy: 0.9778 - val_loss: 4.9148 - val_accuracy: 0.7333\n",
      "Epoch 181/200\n",
      "15/15 [==============================] - 0s 11ms/step - loss: 0.2051 - accuracy: 0.9556 - val_loss: 9.5014e-04 - val_accuracy: 0.6667\n",
      "Epoch 182/200\n",
      "15/15 [==============================] - 0s 11ms/step - loss: 0.0439 - accuracy: 0.9778 - val_loss: 6.1892 - val_accuracy: 0.7333\n",
      "Epoch 183/200\n",
      "15/15 [==============================] - 0s 11ms/step - loss: 0.0214 - accuracy: 1.0000 - val_loss: 2.5370 - val_accuracy: 0.6667\n",
      "Epoch 184/200\n",
      "15/15 [==============================] - 0s 11ms/step - loss: 0.0149 - accuracy: 1.0000 - val_loss: 3.3920 - val_accuracy: 0.6667\n",
      "Epoch 185/200\n",
      "15/15 [==============================] - 0s 11ms/step - loss: 0.0038 - accuracy: 1.0000 - val_loss: 4.3710e-07 - val_accuracy: 0.6667\n",
      "Epoch 186/200\n",
      "15/15 [==============================] - 0s 11ms/step - loss: 0.0074 - accuracy: 1.0000 - val_loss: 0.0047 - val_accuracy: 0.6667\n",
      "Epoch 187/200\n",
      "15/15 [==============================] - 0s 11ms/step - loss: 0.0073 - accuracy: 1.0000 - val_loss: 1.8198 - val_accuracy: 0.6667\n",
      "Epoch 188/200\n",
      "15/15 [==============================] - 0s 11ms/step - loss: 0.0054 - accuracy: 1.0000 - val_loss: 3.9736e-08 - val_accuracy: 0.7333\n",
      "Epoch 189/200\n",
      "15/15 [==============================] - 0s 11ms/step - loss: 0.0019 - accuracy: 1.0000 - val_loss: 4.3309 - val_accuracy: 0.6667\n",
      "Epoch 190/200\n",
      "15/15 [==============================] - 0s 11ms/step - loss: 0.0065 - accuracy: 1.0000 - val_loss: 1.5336 - val_accuracy: 0.6667\n",
      "Epoch 191/200\n",
      "15/15 [==============================] - 0s 11ms/step - loss: 4.5260e-04 - accuracy: 1.0000 - val_loss: 2.4714 - val_accuracy: 0.6667\n",
      "Epoch 192/200\n",
      "15/15 [==============================] - 0s 11ms/step - loss: 0.0050 - accuracy: 1.0000 - val_loss: 4.7323e-05 - val_accuracy: 0.6667\n",
      "Epoch 193/200\n",
      "15/15 [==============================] - 0s 11ms/step - loss: 0.0023 - accuracy: 1.0000 - val_loss: 0.9436 - val_accuracy: 0.6667\n",
      "Epoch 194/200\n",
      "15/15 [==============================] - 0s 11ms/step - loss: 0.0244 - accuracy: 0.9778 - val_loss: 0.9102 - val_accuracy: 0.7333\n",
      "Epoch 195/200\n",
      "15/15 [==============================] - 0s 11ms/step - loss: 0.0075 - accuracy: 1.0000 - val_loss: 2.1088 - val_accuracy: 0.7333\n",
      "Epoch 196/200\n",
      "15/15 [==============================] - 0s 11ms/step - loss: 0.0448 - accuracy: 0.9778 - val_loss: 0.9777 - val_accuracy: 0.6667\n",
      "Epoch 197/200\n",
      "15/15 [==============================] - 0s 11ms/step - loss: 0.0093 - accuracy: 1.0000 - val_loss: 0.4168 - val_accuracy: 0.6667\n",
      "Epoch 198/200\n",
      "15/15 [==============================] - 0s 11ms/step - loss: 0.1913 - accuracy: 0.9556 - val_loss: 5.7448 - val_accuracy: 0.5333\n",
      "Epoch 199/200\n",
      "15/15 [==============================] - 0s 11ms/step - loss: 0.1361 - accuracy: 0.9556 - val_loss: 0.4271 - val_accuracy: 0.6667\n",
      "Epoch 200/200\n",
      "15/15 [==============================] - 0s 11ms/step - loss: 0.0215 - accuracy: 0.9778 - val_loss: 0.9365 - val_accuracy: 0.6667\n"
     ]
    },
    {
     "data": {
      "text/plain": [
       "<keras.callbacks.callbacks.History at 0x237fd23ba48>"
      ]
     },
     "execution_count": 10,
     "metadata": {},
     "output_type": "execute_result"
    }
   ],
   "source": [
    "model.fit_generator(\n",
    "        train_generator,\n",
    "        steps_per_epoch=15,\n",
    "#         steps_per_epoch=15*100,\n",
    "        epochs=200,\n",
    "        validation_data=test_generator,\n",
    "        validation_steps=5)"
   ]
  },
  {
   "cell_type": "markdown",
   "metadata": {
    "colab_type": "text",
    "id": "uT9NEiI-uy52"
   },
   "source": [
    "### 모델 평가하기"
   ]
  },
  {
   "cell_type": "code",
   "execution_count": 11,
   "metadata": {
    "colab": {
     "base_uri": "https://localhost:8080/",
     "height": 53
    },
    "colab_type": "code",
    "id": "XZ8jXxlIu1SE",
    "outputId": "38f36f23-013e-4793-c638-26f0bedb5b6e"
   },
   "outputs": [
    {
     "name": "stdout",
     "output_type": "stream",
     "text": [
      "-- Evaluate --\n",
      "accuracy: 66.67%\n"
     ]
    }
   ],
   "source": [
    "print(\"-- Evaluate --\")\n",
    "scores = model.evaluate_generator(test_generator, steps=5)\n",
    "print(\"%s: %.2f%%\" %(model.metrics_names[1], scores[1]*100))"
   ]
  },
  {
   "cell_type": "markdown",
   "metadata": {
    "colab_type": "text",
    "id": "QTlRD9Mqu9K6"
   },
   "source": [
    "### 모델 사용하기"
   ]
  },
  {
   "cell_type": "code",
   "execution_count": 12,
   "metadata": {
    "colab": {
     "base_uri": "https://localhost:8080/",
     "height": 323
    },
    "colab_type": "code",
    "id": "Wabhqvy-u48Q",
    "outputId": "d6b6ad06-8b60-4998-8ffb-3468141da43c"
   },
   "outputs": [
    {
     "name": "stdout",
     "output_type": "stream",
     "text": [
      "-- Predict --\n",
      "{'circle': 0, 'rectangle': 1, 'triangle': 2}\n",
      "[[0.000 0.000 1.000]\n",
      " [0.000 0.000 1.000]\n",
      " [0.000 1.000 0.000]\n",
      " [0.001 0.000 0.999]\n",
      " [0.999 0.000 0.001]\n",
      " [0.000 0.000 1.000]\n",
      " [0.000 0.000 1.000]\n",
      " [0.002 0.000 0.998]\n",
      " [0.000 0.000 1.000]\n",
      " [0.000 0.000 1.000]\n",
      " [0.000 0.018 0.982]\n",
      " [0.009 0.991 0.000]\n",
      " [0.937 0.062 0.001]\n",
      " [0.017 0.974 0.009]\n",
      " [1.000 0.000 0.000]]\n"
     ]
    }
   ],
   "source": [
    "print(\"-- Predict --\")\n",
    "output = model.predict_generator(test_generator, steps=5)\n",
    "np.set_printoptions(formatter={'float': lambda x: \"{0:0.3f}\".format(x)})\n",
    "print(test_generator.class_indices)\n",
    "print(output)"
   ]
  },
  {
   "cell_type": "code",
   "execution_count": 13,
   "metadata": {
    "colab": {},
    "colab_type": "code",
    "id": "jVItItOmvZOJ"
   },
   "outputs": [
    {
     "name": "stdout",
     "output_type": "stream",
     "text": [
      "circle\\circle021.png 0 2\n",
      "circle\\circle022.png 0 2\n",
      "circle\\circle023.png 0 1\n",
      "circle\\circle024.png 0 2\n",
      "circle\\circle025.png 0 0\n",
      "rectangle\\rectangle021.png 1 2\n",
      "rectangle\\rectangle022.png 1 2\n",
      "rectangle\\rectangle023.png 1 2\n",
      "rectangle\\rectangle024.png 1 2\n",
      "rectangle\\rectangle025.png 1 2\n",
      "triangle\\triangle021.png 2 2\n",
      "triangle\\triangle022.png 2 1\n",
      "triangle\\triangle023.png 2 0\n",
      "triangle\\triangle024.png 2 1\n",
      "triangle\\triangle025.png 2 0\n"
     ]
    }
   ],
   "source": [
    "for i in range(len(test_generator.labels)):\n",
    "    print(test_generator.filenames[i], test_generator.labels[i], np.argmax(output[i]))"
   ]
  },
  {
   "cell_type": "code",
   "execution_count": null,
   "metadata": {},
   "outputs": [],
   "source": []
  }
 ],
 "metadata": {
  "colab": {
   "collapsed_sections": [],
   "name": "PolygonClassfication_03_DataAugmentation.ipynb",
   "provenance": [],
   "version": "0.3.2"
  },
  "kernelspec": {
   "display_name": "Python 3",
   "language": "python",
   "name": "python3"
  },
  "language_info": {
   "codemirror_mode": {
    "name": "ipython",
    "version": 3
   },
   "file_extension": ".py",
   "mimetype": "text/x-python",
   "name": "python",
   "nbconvert_exporter": "python",
   "pygments_lexer": "ipython3",
   "version": "3.7.7"
  }
 },
 "nbformat": 4,
 "nbformat_minor": 1
}
