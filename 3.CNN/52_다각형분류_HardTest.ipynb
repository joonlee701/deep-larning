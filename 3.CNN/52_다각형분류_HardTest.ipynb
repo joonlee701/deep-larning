{
 "cells": [
  {
   "cell_type": "markdown",
   "metadata": {
    "colab_type": "text",
    "id": "3rG34xrNgE7I"
   },
   "source": [
    "# 원, 삼각형, 사각형 구분하기\n",
    "## 2. 어려운 테스트 문제를 기존 CNN 모델로 푸는 경우"
   ]
  },
  {
   "cell_type": "code",
   "execution_count": 1,
   "metadata": {
    "colab": {},
    "colab_type": "code",
    "id": "bwA2Lk7gilA1"
   },
   "outputs": [
    {
     "name": "stderr",
     "output_type": "stream",
     "text": [
      "Using TensorFlow backend.\n"
     ]
    }
   ],
   "source": [
    "import numpy as np\n",
    "import tensorflow as tf\n",
    "from tensorflow import keras\n",
    "from keras.models import Sequential\n",
    "from keras.layers import Dense, Flatten, Conv2D, MaxPooling2D\n",
    "from keras.preprocessing.image import ImageDataGenerator"
   ]
  },
  {
   "cell_type": "code",
   "execution_count": 2,
   "metadata": {},
   "outputs": [],
   "source": [
    "# seed 값 설정\n",
    "seed = 2020\n",
    "np.random.seed(seed)\n",
    "tf.random.set_seed(seed)"
   ]
  },
  {
   "cell_type": "markdown",
   "metadata": {
    "colab_type": "text",
    "id": "SjsMBcR0pnzv"
   },
   "source": [
    "### 데이터셋 생성하기"
   ]
  },
  {
   "cell_type": "code",
   "execution_count": 3,
   "metadata": {
    "colab": {
     "base_uri": "https://localhost:8080/",
     "height": 53
    },
    "colab_type": "code",
    "id": "9Ffv4Qcfkxd0",
    "outputId": "caa7aa1e-8c4b-482d-ce65-d7f48e8e5920"
   },
   "outputs": [
    {
     "name": "stdout",
     "output_type": "stream",
     "text": [
      "Found 45 images belonging to 3 classes.\n",
      "Found 15 images belonging to 3 classes.\n"
     ]
    }
   ],
   "source": [
    "train_datagen = ImageDataGenerator(rescale=1./255)\n",
    "\n",
    "train_generator = train_datagen.flow_from_directory(\n",
    "        'hard_handwriting_shape/train',\n",
    "        target_size=(24, 24),\n",
    "        batch_size=3,\n",
    "        class_mode='categorical')\n",
    "\n",
    "test_datagen = ImageDataGenerator(rescale=1./255)\n",
    "\n",
    "test_generator = test_datagen.flow_from_directory(\n",
    "        'hard_handwriting_shape/test',\n",
    "        target_size=(24, 24),    \n",
    "        batch_size=3,\n",
    "        class_mode='categorical')"
   ]
  },
  {
   "cell_type": "markdown",
   "metadata": {
    "colab_type": "text",
    "id": "K88bSm6wpwsK"
   },
   "source": [
    "### 모델 구성하기 -- CNN을 이용하는 방법"
   ]
  },
  {
   "cell_type": "code",
   "execution_count": 4,
   "metadata": {
    "colab": {
     "base_uri": "https://localhost:8080/",
     "height": 377
    },
    "colab_type": "code",
    "id": "G5TOCJzIpVfR",
    "outputId": "35def669-2606-46e4-efee-98f549cce104"
   },
   "outputs": [
    {
     "name": "stdout",
     "output_type": "stream",
     "text": [
      "Model: \"sequential_1\"\n",
      "_________________________________________________________________\n",
      "Layer (type)                 Output Shape              Param #   \n",
      "=================================================================\n",
      "conv2d_1 (Conv2D)            (None, 22, 22, 32)        896       \n",
      "_________________________________________________________________\n",
      "conv2d_2 (Conv2D)            (None, 20, 20, 64)        18496     \n",
      "_________________________________________________________________\n",
      "max_pooling2d_1 (MaxPooling2 (None, 10, 10, 64)        0         \n",
      "_________________________________________________________________\n",
      "flatten_1 (Flatten)          (None, 6400)              0         \n",
      "_________________________________________________________________\n",
      "dense_1 (Dense)              (None, 128)               819328    \n",
      "_________________________________________________________________\n",
      "dense_2 (Dense)              (None, 3)                 387       \n",
      "=================================================================\n",
      "Total params: 839,107\n",
      "Trainable params: 839,107\n",
      "Non-trainable params: 0\n",
      "_________________________________________________________________\n"
     ]
    }
   ],
   "source": [
    "model = Sequential()\n",
    "model.add(Conv2D(32, kernel_size=(3, 3),\n",
    "                 activation='relu', input_shape=(24,24,3)))\n",
    "model.add(Conv2D(64, (3, 3), activation='relu'))\n",
    "model.add(MaxPooling2D(pool_size=(2, 2)))\n",
    "model.add(Flatten())\n",
    "model.add(Dense(128, activation='relu'))\n",
    "model.add(Dense(3, activation='softmax'))\n",
    "model.summary()"
   ]
  },
  {
   "cell_type": "markdown",
   "metadata": {
    "colab_type": "text",
    "id": "wrjhuhJ2tEeA"
   },
   "source": [
    "### 모델 학습과정 설정하기"
   ]
  },
  {
   "cell_type": "code",
   "execution_count": 5,
   "metadata": {
    "colab": {},
    "colab_type": "code",
    "id": "hBUFfHV6sSRW"
   },
   "outputs": [],
   "source": [
    "model.compile(loss='categorical_crossentropy', \n",
    "              optimizer='adam', metrics=['accuracy'])"
   ]
  },
  {
   "cell_type": "markdown",
   "metadata": {
    "colab_type": "text",
    "id": "sZ_WQ05itPr9"
   },
   "source": [
    "## 모델 학습시키기\n",
    "- 첫번째 인자 : 훈련데이터셋을 제공할 제네레이터를 지정. 본 예제에서는 앞서 생성한 train_generator으로 지정.\n",
    "- steps_per_epoch : 한 epoch에 사용한 스텝 수를 지정. 총 45개의 훈련 샘플이 있고 배치사이즈가 3이므로 15 스텝으로 지정.\n",
    "- epochs : 전체 훈련 데이터셋에 대해 학습 반복 횟수를 지정. 200번을 반복적으로 학습.\n",
    "- validation_data : 검증데이터셋을 제공할 제네레이터를 지정. 본 예제에서는 앞서 생성한 validation_generator으로 지정.\n",
    "- validation_steps : 한 epoch 종료 시 마다 검증할 때 사용되는 검증 스텝 수를 지정. 홍 15개의 검증 샘플이 있고 배치사이즈가 3이므로 5 스텝으로 지정."
   ]
  },
  {
   "cell_type": "code",
   "execution_count": 6,
   "metadata": {
    "colab": {
     "base_uri": "https://localhost:8080/",
     "height": 1000
    },
    "colab_type": "code",
    "id": "oMzc0kFdtLMY",
    "outputId": "93273fea-58c8-474a-8308-9a3fdeae55d4"
   },
   "outputs": [
    {
     "name": "stdout",
     "output_type": "stream",
     "text": [
      "Epoch 1/200\n",
      "15/15 [==============================] - 0s 19ms/step - loss: 0.9157 - accuracy: 0.6000 - val_loss: 1.1756 - val_accuracy: 0.3333\n",
      "Epoch 2/200\n",
      "15/15 [==============================] - 0s 10ms/step - loss: 0.0796 - accuracy: 1.0000 - val_loss: 2.6093 - val_accuracy: 0.3333\n",
      "Epoch 3/200\n",
      "15/15 [==============================] - 0s 10ms/step - loss: 0.0243 - accuracy: 1.0000 - val_loss: 1.8867 - val_accuracy: 0.3333\n",
      "Epoch 4/200\n",
      "15/15 [==============================] - 0s 10ms/step - loss: 0.0158 - accuracy: 1.0000 - val_loss: 3.2104 - val_accuracy: 0.3333\n",
      "Epoch 5/200\n",
      "15/15 [==============================] - 0s 10ms/step - loss: 0.0024 - accuracy: 1.0000 - val_loss: 4.4106 - val_accuracy: 0.3333\n",
      "Epoch 6/200\n",
      "15/15 [==============================] - 0s 10ms/step - loss: 9.2728e-04 - accuracy: 1.0000 - val_loss: 2.2822 - val_accuracy: 0.3333\n",
      "Epoch 7/200\n",
      "15/15 [==============================] - 0s 10ms/step - loss: 2.5921e-04 - accuracy: 1.0000 - val_loss: 5.8449 - val_accuracy: 0.3333\n",
      "Epoch 8/200\n",
      "15/15 [==============================] - 0s 10ms/step - loss: 2.5873e-04 - accuracy: 1.0000 - val_loss: 4.1603 - val_accuracy: 0.3333\n",
      "Epoch 9/200\n",
      "15/15 [==============================] - 0s 10ms/step - loss: 1.4264e-04 - accuracy: 1.0000 - val_loss: 2.7405 - val_accuracy: 0.3333\n",
      "Epoch 10/200\n",
      "15/15 [==============================] - 0s 10ms/step - loss: 8.5107e-05 - accuracy: 1.0000 - val_loss: 9.0013 - val_accuracy: 0.3333\n",
      "Epoch 11/200\n",
      "15/15 [==============================] - 0s 11ms/step - loss: 6.0857e-05 - accuracy: 1.0000 - val_loss: 2.8753 - val_accuracy: 0.3333\n",
      "Epoch 12/200\n",
      "15/15 [==============================] - 0s 11ms/step - loss: 4.6884e-05 - accuracy: 1.0000 - val_loss: 1.0992 - val_accuracy: 0.3333\n",
      "Epoch 13/200\n",
      "15/15 [==============================] - 0s 11ms/step - loss: 3.7563e-05 - accuracy: 1.0000 - val_loss: 6.8692 - val_accuracy: 0.3333\n",
      "Epoch 14/200\n",
      "15/15 [==============================] - 0s 16ms/step - loss: 3.3926e-05 - accuracy: 1.0000 - val_loss: 6.1402 - val_accuracy: 0.3333\n",
      "Epoch 15/200\n",
      "15/15 [==============================] - 0s 11ms/step - loss: 2.9450e-05 - accuracy: 1.0000 - val_loss: 5.3125 - val_accuracy: 0.3333\n",
      "Epoch 16/200\n",
      "15/15 [==============================] - 0s 11ms/step - loss: 2.5837e-05 - accuracy: 1.0000 - val_loss: 5.6833 - val_accuracy: 0.3333\n",
      "Epoch 17/200\n",
      "15/15 [==============================] - 0s 11ms/step - loss: 2.3053e-05 - accuracy: 1.0000 - val_loss: 10.1072 - val_accuracy: 0.3333\n",
      "Epoch 18/200\n",
      "15/15 [==============================] - 0s 11ms/step - loss: 2.0916e-05 - accuracy: 1.0000 - val_loss: 6.1742e-04 - val_accuracy: 0.3333\n",
      "Epoch 19/200\n",
      "15/15 [==============================] - 0s 10ms/step - loss: 1.8995e-05 - accuracy: 1.0000 - val_loss: 11.2084 - val_accuracy: 0.3333\n",
      "Epoch 20/200\n",
      "15/15 [==============================] - 0s 11ms/step - loss: 1.7435e-05 - accuracy: 1.0000 - val_loss: 0.3758 - val_accuracy: 0.3333\n",
      "Epoch 21/200\n",
      "15/15 [==============================] - 0s 11ms/step - loss: 1.5928e-05 - accuracy: 1.0000 - val_loss: 7.1368 - val_accuracy: 0.3333\n",
      "Epoch 22/200\n",
      "15/15 [==============================] - 0s 11ms/step - loss: 1.4763e-05 - accuracy: 1.0000 - val_loss: 4.5323 - val_accuracy: 0.3333\n",
      "Epoch 23/200\n",
      "15/15 [==============================] - 0s 11ms/step - loss: 1.3820e-05 - accuracy: 1.0000 - val_loss: 8.9916 - val_accuracy: 0.3333\n",
      "Epoch 24/200\n",
      "15/15 [==============================] - 0s 11ms/step - loss: 1.2940e-05 - accuracy: 1.0000 - val_loss: 7.2076 - val_accuracy: 0.3333\n",
      "Epoch 25/200\n",
      "15/15 [==============================] - 0s 11ms/step - loss: 1.1693e-05 - accuracy: 1.0000 - val_loss: 2.1539 - val_accuracy: 0.3333\n",
      "Epoch 26/200\n",
      "15/15 [==============================] - 0s 11ms/step - loss: 1.1028e-05 - accuracy: 1.0000 - val_loss: 1.2145 - val_accuracy: 0.3333\n",
      "Epoch 27/200\n",
      "15/15 [==============================] - 0s 10ms/step - loss: 1.0392e-05 - accuracy: 1.0000 - val_loss: 7.4042 - val_accuracy: 0.3333\n",
      "Epoch 28/200\n",
      "15/15 [==============================] - 0s 11ms/step - loss: 9.7960e-06 - accuracy: 1.0000 - val_loss: 7.4278 - val_accuracy: 0.3333\n",
      "Epoch 29/200\n",
      "15/15 [==============================] - 0s 10ms/step - loss: 9.1258e-06 - accuracy: 1.0000 - val_loss: 7.9606 - val_accuracy: 0.3333\n",
      "Epoch 30/200\n",
      "15/15 [==============================] - 0s 10ms/step - loss: 8.5457e-06 - accuracy: 1.0000 - val_loss: 3.0430 - val_accuracy: 0.3333\n",
      "Epoch 31/200\n",
      "15/15 [==============================] - 0s 10ms/step - loss: 8.0981e-06 - accuracy: 1.0000 - val_loss: 8.5012 - val_accuracy: 0.3333\n",
      "Epoch 32/200\n",
      "15/15 [==============================] - 0s 11ms/step - loss: 7.6000e-06 - accuracy: 1.0000 - val_loss: 9.4138 - val_accuracy: 0.3333\n",
      "Epoch 33/200\n",
      "15/15 [==============================] - 0s 10ms/step - loss: 7.1683e-06 - accuracy: 1.0000 - val_loss: 4.3731 - val_accuracy: 0.3333\n",
      "Epoch 34/200\n",
      "15/15 [==============================] - 0s 11ms/step - loss: 6.8530e-06 - accuracy: 1.0000 - val_loss: 4.0987 - val_accuracy: 0.3333\n",
      "Epoch 35/200\n",
      "15/15 [==============================] - 0s 10ms/step - loss: 6.3656e-06 - accuracy: 1.0000 - val_loss: 4.0276 - val_accuracy: 0.3333\n",
      "Epoch 36/200\n",
      "15/15 [==============================] - 0s 11ms/step - loss: 6.0716e-06 - accuracy: 1.0000 - val_loss: 7.2993 - val_accuracy: 0.3333\n",
      "Epoch 37/200\n",
      "15/15 [==============================] - 0s 10ms/step - loss: 5.7696e-06 - accuracy: 1.0000 - val_loss: 8.6059 - val_accuracy: 0.3333\n",
      "Epoch 38/200\n",
      "15/15 [==============================] - 0s 10ms/step - loss: 5.4782e-06 - accuracy: 1.0000 - val_loss: 4.2137e-04 - val_accuracy: 0.3333\n",
      "Epoch 39/200\n",
      "15/15 [==============================] - 0s 10ms/step - loss: 5.2001e-06 - accuracy: 1.0000 - val_loss: 4.7992 - val_accuracy: 0.3333\n",
      "Epoch 40/200\n",
      "15/15 [==============================] - 0s 11ms/step - loss: 4.9193e-06 - accuracy: 1.0000 - val_loss: 5.7092 - val_accuracy: 0.3333\n",
      "Epoch 41/200\n",
      "15/15 [==============================] - 0s 10ms/step - loss: 4.7127e-06 - accuracy: 1.0000 - val_loss: 7.4076 - val_accuracy: 0.3333\n",
      "Epoch 42/200\n",
      "15/15 [==============================] - 0s 11ms/step - loss: 4.4848e-06 - accuracy: 1.0000 - val_loss: 6.6766 - val_accuracy: 0.3333\n",
      "Epoch 43/200\n",
      "15/15 [==============================] - 0s 10ms/step - loss: 4.2597e-06 - accuracy: 1.0000 - val_loss: 4.4833 - val_accuracy: 0.3333\n",
      "Epoch 44/200\n",
      "15/15 [==============================] - 0s 11ms/step - loss: 4.1643e-06 - accuracy: 1.0000 - val_loss: 5.6050 - val_accuracy: 0.3333\n",
      "Epoch 45/200\n",
      "15/15 [==============================] - 0s 10ms/step - loss: 3.9339e-06 - accuracy: 1.0000 - val_loss: 9.6554 - val_accuracy: 0.3333\n",
      "Epoch 46/200\n",
      "15/15 [==============================] - 0s 11ms/step - loss: 3.7405e-06 - accuracy: 1.0000 - val_loss: 7.5203 - val_accuracy: 0.3333\n",
      "Epoch 47/200\n",
      "15/15 [==============================] - 0s 10ms/step - loss: 3.6557e-06 - accuracy: 1.0000 - val_loss: 11.6255 - val_accuracy: 0.3333\n",
      "Epoch 48/200\n",
      "15/15 [==============================] - 0s 10ms/step - loss: 3.4544e-06 - accuracy: 1.0000 - val_loss: 9.7782 - val_accuracy: 0.3333\n",
      "Epoch 49/200\n",
      "15/15 [==============================] - 0s 10ms/step - loss: 3.3325e-06 - accuracy: 1.0000 - val_loss: 8.5453 - val_accuracy: 0.3333\n",
      "Epoch 50/200\n",
      "15/15 [==============================] - 0s 11ms/step - loss: 3.1709e-06 - accuracy: 1.0000 - val_loss: 8.7668 - val_accuracy: 0.3333\n",
      "Epoch 51/200\n",
      "15/15 [==============================] - 0s 10ms/step - loss: 3.0385e-06 - accuracy: 1.0000 - val_loss: 5.7414 - val_accuracy: 0.3333\n",
      "Epoch 52/200\n",
      "15/15 [==============================] - 0s 10ms/step - loss: 2.9166e-06 - accuracy: 1.0000 - val_loss: 7.7559 - val_accuracy: 0.3333\n",
      "Epoch 53/200\n",
      "15/15 [==============================] - 0s 10ms/step - loss: 2.8027e-06 - accuracy: 1.0000 - val_loss: 3.6283 - val_accuracy: 0.3333\n",
      "Epoch 54/200\n",
      "15/15 [==============================] - 0s 11ms/step - loss: 2.7047e-06 - accuracy: 1.0000 - val_loss: 3.6506 - val_accuracy: 0.3333\n",
      "Epoch 55/200\n",
      "15/15 [==============================] - 0s 10ms/step - loss: 2.6226e-06 - accuracy: 1.0000 - val_loss: 6.5640 - val_accuracy: 0.3333\n",
      "Epoch 56/200\n",
      "15/15 [==============================] - 0s 10ms/step - loss: 2.5166e-06 - accuracy: 1.0000 - val_loss: 7.0070 - val_accuracy: 0.3333\n"
     ]
    },
    {
     "name": "stdout",
     "output_type": "stream",
     "text": [
      "Epoch 57/200\n",
      "15/15 [==============================] - 0s 10ms/step - loss: 2.4239e-06 - accuracy: 1.0000 - val_loss: 6.6362 - val_accuracy: 0.3333\n",
      "Epoch 58/200\n",
      "15/15 [==============================] - 0s 10ms/step - loss: 2.3444e-06 - accuracy: 1.0000 - val_loss: 6.1627 - val_accuracy: 0.3333\n",
      "Epoch 59/200\n",
      "15/15 [==============================] - 0s 10ms/step - loss: 2.2597e-06 - accuracy: 1.0000 - val_loss: 5.5546 - val_accuracy: 0.3333\n",
      "Epoch 60/200\n",
      "15/15 [==============================] - 0s 10ms/step - loss: 2.1590e-06 - accuracy: 1.0000 - val_loss: 4.2128 - val_accuracy: 0.3333\n",
      "Epoch 61/200\n",
      "15/15 [==============================] - 0s 10ms/step - loss: 2.1113e-06 - accuracy: 1.0000 - val_loss: 2.7414 - val_accuracy: 0.3333\n",
      "Epoch 62/200\n",
      "15/15 [==============================] - 0s 10ms/step - loss: 2.0106e-06 - accuracy: 1.0000 - val_loss: 6.7261 - val_accuracy: 0.3333\n",
      "Epoch 63/200\n",
      "15/15 [==============================] - 0s 10ms/step - loss: 1.9550e-06 - accuracy: 1.0000 - val_loss: 3.5103 - val_accuracy: 0.3333\n",
      "Epoch 64/200\n",
      "15/15 [==============================] - 0s 10ms/step - loss: 1.8782e-06 - accuracy: 1.0000 - val_loss: 5.4567 - val_accuracy: 0.3333\n",
      "Epoch 65/200\n",
      "15/15 [==============================] - 0s 10ms/step - loss: 1.8279e-06 - accuracy: 1.0000 - val_loss: 7.7229 - val_accuracy: 0.3333\n",
      "Epoch 66/200\n",
      "15/15 [==============================] - 0s 11ms/step - loss: 1.7669e-06 - accuracy: 1.0000 - val_loss: 4.2301 - val_accuracy: 0.3333\n",
      "Epoch 67/200\n",
      "15/15 [==============================] - 0s 10ms/step - loss: 1.7087e-06 - accuracy: 1.0000 - val_loss: 3.8955 - val_accuracy: 0.3333\n",
      "Epoch 68/200\n",
      "15/15 [==============================] - 0s 10ms/step - loss: 1.6451e-06 - accuracy: 1.0000 - val_loss: 2.2493 - val_accuracy: 0.3333\n",
      "Epoch 69/200\n",
      "15/15 [==============================] - 0s 10ms/step - loss: 1.5894e-06 - accuracy: 1.0000 - val_loss: 5.7152 - val_accuracy: 0.3333\n",
      "Epoch 70/200\n",
      "15/15 [==============================] - 0s 10ms/step - loss: 1.5391e-06 - accuracy: 1.0000 - val_loss: 6.6287 - val_accuracy: 0.3333\n",
      "Epoch 71/200\n",
      "15/15 [==============================] - 0s 10ms/step - loss: 1.4835e-06 - accuracy: 1.0000 - val_loss: 0.2337 - val_accuracy: 0.3333\n",
      "Epoch 72/200\n",
      "15/15 [==============================] - 0s 10ms/step - loss: 1.4490e-06 - accuracy: 1.0000 - val_loss: 2.4257 - val_accuracy: 0.3333\n",
      "Epoch 73/200\n",
      "15/15 [==============================] - 0s 10ms/step - loss: 1.4093e-06 - accuracy: 1.0000 - val_loss: 3.5288 - val_accuracy: 0.3333\n",
      "Epoch 74/200\n",
      "15/15 [==============================] - 0s 10ms/step - loss: 1.3669e-06 - accuracy: 1.0000 - val_loss: 1.3021 - val_accuracy: 0.3333\n",
      "Epoch 75/200\n",
      "15/15 [==============================] - 0s 10ms/step - loss: 1.3298e-06 - accuracy: 1.0000 - val_loss: 4.4913 - val_accuracy: 0.3333\n",
      "Epoch 76/200\n",
      "15/15 [==============================] - 0s 10ms/step - loss: 1.2928e-06 - accuracy: 1.0000 - val_loss: 2.4258 - val_accuracy: 0.3333\n",
      "Epoch 77/200\n",
      "15/15 [==============================] - 0s 10ms/step - loss: 1.2451e-06 - accuracy: 1.0000 - val_loss: 9.3369 - val_accuracy: 0.3333\n",
      "Epoch 78/200\n",
      "15/15 [==============================] - 0s 10ms/step - loss: 1.2027e-06 - accuracy: 1.0000 - val_loss: 5.7142 - val_accuracy: 0.3333\n",
      "Epoch 79/200\n",
      "15/15 [==============================] - 0s 10ms/step - loss: 1.1682e-06 - accuracy: 1.0000 - val_loss: 2.4294 - val_accuracy: 0.3333\n",
      "Epoch 80/200\n",
      "15/15 [==============================] - 0s 10ms/step - loss: 1.1444e-06 - accuracy: 1.0000 - val_loss: 6.8878 - val_accuracy: 0.3333\n",
      "Epoch 81/200\n",
      "15/15 [==============================] - 0s 10ms/step - loss: 1.0835e-06 - accuracy: 1.0000 - val_loss: 5.8489 - val_accuracy: 0.3333\n",
      "Epoch 82/200\n",
      "15/15 [==============================] - 0s 10ms/step - loss: 1.0570e-06 - accuracy: 1.0000 - val_loss: 1.5158 - val_accuracy: 0.3333\n",
      "Epoch 83/200\n",
      "15/15 [==============================] - 0s 10ms/step - loss: 1.0384e-06 - accuracy: 1.0000 - val_loss: 8.7271 - val_accuracy: 0.3333\n",
      "Epoch 84/200\n",
      "15/15 [==============================] - 0s 10ms/step - loss: 1.0040e-06 - accuracy: 1.0000 - val_loss: 7.7824 - val_accuracy: 0.3333\n",
      "Epoch 85/200\n",
      "15/15 [==============================] - 0s 10ms/step - loss: 9.7222e-07 - accuracy: 1.0000 - val_loss: 7.7916 - val_accuracy: 0.3333\n",
      "Epoch 86/200\n",
      "15/15 [==============================] - 0s 10ms/step - loss: 9.4308e-07 - accuracy: 1.0000 - val_loss: 5.8739 - val_accuracy: 0.3333\n",
      "Epoch 87/200\n",
      "15/15 [==============================] - 0s 10ms/step - loss: 9.1394e-07 - accuracy: 1.0000 - val_loss: 9.0669 - val_accuracy: 0.3333\n",
      "Epoch 88/200\n",
      "15/15 [==============================] - 0s 11ms/step - loss: 8.8480e-07 - accuracy: 1.0000 - val_loss: 5.8941 - val_accuracy: 0.3333\n",
      "Epoch 89/200\n",
      "15/15 [==============================] - 0s 10ms/step - loss: 8.6360e-07 - accuracy: 1.0000 - val_loss: 2.3417 - val_accuracy: 0.3333\n",
      "Epoch 90/200\n",
      "15/15 [==============================] - 0s 10ms/step - loss: 8.3446e-07 - accuracy: 1.0000 - val_loss: 4.8402 - val_accuracy: 0.3333\n",
      "Epoch 91/200\n",
      "15/15 [==============================] - 0s 9ms/step - loss: 8.0002e-07 - accuracy: 1.0000 - val_loss: 6.7093 - val_accuracy: 0.3333\n",
      "Epoch 92/200\n",
      "15/15 [==============================] - 0s 10ms/step - loss: 7.8678e-07 - accuracy: 1.0000 - val_loss: 4.5450 - val_accuracy: 0.3333\n",
      "Epoch 93/200\n",
      "15/15 [==============================] - 0s 10ms/step - loss: 7.4969e-07 - accuracy: 1.0000 - val_loss: 4.7628 - val_accuracy: 0.3333\n",
      "Epoch 94/200\n",
      "15/15 [==============================] - 0s 10ms/step - loss: 7.2850e-07 - accuracy: 1.0000 - val_loss: 7.0866 - val_accuracy: 0.3333\n",
      "Epoch 95/200\n",
      "15/15 [==============================] - 0s 11ms/step - loss: 7.0731e-07 - accuracy: 1.0000 - val_loss: 10.4178 - val_accuracy: 0.3333\n",
      "Epoch 96/200\n",
      "15/15 [==============================] - 0s 11ms/step - loss: 6.8347e-07 - accuracy: 1.0000 - val_loss: 2.5982 - val_accuracy: 0.3333\n",
      "Epoch 97/200\n",
      "15/15 [==============================] - 0s 11ms/step - loss: 6.6492e-07 - accuracy: 1.0000 - val_loss: 0.0290 - val_accuracy: 0.3333\n",
      "Epoch 98/200\n",
      "15/15 [==============================] - 0s 11ms/step - loss: 6.3048e-07 - accuracy: 1.0000 - val_loss: 7.7873 - val_accuracy: 0.3333\n",
      "Epoch 99/200\n",
      "15/15 [==============================] - 0s 11ms/step - loss: 6.1724e-07 - accuracy: 1.0000 - val_loss: 6.9259 - val_accuracy: 0.3333\n",
      "Epoch 100/200\n",
      "15/15 [==============================] - 0s 10ms/step - loss: 5.9605e-07 - accuracy: 1.0000 - val_loss: 3.8457 - val_accuracy: 0.3333\n",
      "Epoch 101/200\n",
      "15/15 [==============================] - 0s 11ms/step - loss: 5.8545e-07 - accuracy: 1.0000 - val_loss: 8.1634 - val_accuracy: 0.3333\n",
      "Epoch 102/200\n",
      "15/15 [==============================] - 0s 11ms/step - loss: 5.7220e-07 - accuracy: 1.0000 - val_loss: 12.1197 - val_accuracy: 0.3333\n",
      "Epoch 103/200\n",
      "15/15 [==============================] - 0s 11ms/step - loss: 5.6161e-07 - accuracy: 1.0000 - val_loss: 8.2587 - val_accuracy: 0.3333\n",
      "Epoch 104/200\n",
      "15/15 [==============================] - 0s 11ms/step - loss: 5.4306e-07 - accuracy: 1.0000 - val_loss: 4.6478 - val_accuracy: 0.3333\n",
      "Epoch 105/200\n",
      "15/15 [==============================] - 0s 10ms/step - loss: 5.2187e-07 - accuracy: 1.0000 - val_loss: 2.5113 - val_accuracy: 0.3333\n",
      "Epoch 106/200\n",
      "15/15 [==============================] - 0s 11ms/step - loss: 5.1127e-07 - accuracy: 1.0000 - val_loss: 5.9821 - val_accuracy: 0.4000\n",
      "Epoch 107/200\n",
      "15/15 [==============================] - 0s 10ms/step - loss: 5.0598e-07 - accuracy: 1.0000 - val_loss: 6.0939 - val_accuracy: 0.4000\n",
      "Epoch 108/200\n",
      "15/15 [==============================] - 0s 11ms/step - loss: 4.9538e-07 - accuracy: 1.0000 - val_loss: 7.2444 - val_accuracy: 0.3333\n",
      "Epoch 109/200\n",
      "15/15 [==============================] - 0s 10ms/step - loss: 4.7949e-07 - accuracy: 1.0000 - val_loss: 8.6698 - val_accuracy: 0.4000\n",
      "Epoch 110/200\n",
      "15/15 [==============================] - 0s 11ms/step - loss: 4.6359e-07 - accuracy: 1.0000 - val_loss: 10.3508 - val_accuracy: 0.4000\n",
      "Epoch 111/200\n",
      "15/15 [==============================] - 0s 10ms/step - loss: 4.4505e-07 - accuracy: 1.0000 - val_loss: 6.2236 - val_accuracy: 0.4000\n",
      "Epoch 112/200\n"
     ]
    },
    {
     "name": "stdout",
     "output_type": "stream",
     "text": [
      "15/15 [==============================] - 0s 10ms/step - loss: 4.3975e-07 - accuracy: 1.0000 - val_loss: 5.1056 - val_accuracy: 0.4000\n",
      "Epoch 113/200\n",
      "15/15 [==============================] - 0s 10ms/step - loss: 4.3445e-07 - accuracy: 1.0000 - val_loss: 11.3864 - val_accuracy: 0.4000\n",
      "Epoch 114/200\n",
      "15/15 [==============================] - 0s 10ms/step - loss: 4.2121e-07 - accuracy: 1.0000 - val_loss: 7.2732 - val_accuracy: 0.4000\n",
      "Epoch 115/200\n",
      "15/15 [==============================] - 0s 10ms/step - loss: 4.1061e-07 - accuracy: 1.0000 - val_loss: 6.1575 - val_accuracy: 0.4000\n",
      "Epoch 116/200\n",
      "15/15 [==============================] - 0s 10ms/step - loss: 4.0796e-07 - accuracy: 1.0000 - val_loss: 7.8078 - val_accuracy: 0.4000\n",
      "Epoch 117/200\n",
      "15/15 [==============================] - 0s 10ms/step - loss: 3.9736e-07 - accuracy: 1.0000 - val_loss: 3.8471 - val_accuracy: 0.4000\n",
      "Epoch 118/200\n",
      "15/15 [==============================] - 0s 10ms/step - loss: 3.9471e-07 - accuracy: 1.0000 - val_loss: 7.1993 - val_accuracy: 0.4000\n",
      "Epoch 119/200\n",
      "15/15 [==============================] - 0s 10ms/step - loss: 3.7882e-07 - accuracy: 1.0000 - val_loss: 3.8583 - val_accuracy: 0.4000\n",
      "Epoch 120/200\n",
      "15/15 [==============================] - 0s 10ms/step - loss: 3.7617e-07 - accuracy: 1.0000 - val_loss: 0.2277 - val_accuracy: 0.4000\n",
      "Epoch 121/200\n",
      "15/15 [==============================] - 0s 10ms/step - loss: 3.6028e-07 - accuracy: 1.0000 - val_loss: 3.6478 - val_accuracy: 0.4000\n",
      "Epoch 122/200\n",
      "15/15 [==============================] - 0s 10ms/step - loss: 3.5763e-07 - accuracy: 1.0000 - val_loss: 5.0610 - val_accuracy: 0.4000\n",
      "Epoch 123/200\n",
      "15/15 [==============================] - 0s 10ms/step - loss: 3.3908e-07 - accuracy: 1.0000 - val_loss: 4.6509 - val_accuracy: 0.4000\n",
      "Epoch 124/200\n",
      "15/15 [==============================] - 0s 10ms/step - loss: 3.3114e-07 - accuracy: 1.0000 - val_loss: 5.9185 - val_accuracy: 0.4000\n",
      "Epoch 125/200\n",
      "15/15 [==============================] - 0s 10ms/step - loss: 3.2584e-07 - accuracy: 1.0000 - val_loss: 1.2815 - val_accuracy: 0.4000\n",
      "Epoch 126/200\n",
      "15/15 [==============================] - 0s 10ms/step - loss: 3.2054e-07 - accuracy: 1.0000 - val_loss: 4.7515 - val_accuracy: 0.4000\n",
      "Epoch 127/200\n",
      "15/15 [==============================] - 0s 10ms/step - loss: 3.1524e-07 - accuracy: 1.0000 - val_loss: 10.6013 - val_accuracy: 0.4000\n",
      "Epoch 128/200\n",
      "15/15 [==============================] - 0s 10ms/step - loss: 3.0994e-07 - accuracy: 1.0000 - val_loss: 9.7435 - val_accuracy: 0.4000\n",
      "Epoch 129/200\n",
      "15/15 [==============================] - 0s 10ms/step - loss: 3.0200e-07 - accuracy: 1.0000 - val_loss: 5.6972 - val_accuracy: 0.4000\n",
      "Epoch 130/200\n",
      "15/15 [==============================] - 0s 10ms/step - loss: 2.9670e-07 - accuracy: 1.0000 - val_loss: 3.6429 - val_accuracy: 0.4000\n",
      "Epoch 131/200\n",
      "15/15 [==============================] - 0s 10ms/step - loss: 2.8875e-07 - accuracy: 1.0000 - val_loss: 10.9382 - val_accuracy: 0.4000\n",
      "Epoch 132/200\n",
      "15/15 [==============================] - 0s 11ms/step - loss: 2.8610e-07 - accuracy: 1.0000 - val_loss: 4.9071 - val_accuracy: 0.4000\n",
      "Epoch 133/200\n",
      "15/15 [==============================] - 0s 10ms/step - loss: 2.7551e-07 - accuracy: 1.0000 - val_loss: 3.5133 - val_accuracy: 0.4000\n",
      "Epoch 134/200\n",
      "15/15 [==============================] - 0s 10ms/step - loss: 2.7021e-07 - accuracy: 1.0000 - val_loss: 7.1379 - val_accuracy: 0.4000\n",
      "Epoch 135/200\n",
      "15/15 [==============================] - 0s 10ms/step - loss: 2.6756e-07 - accuracy: 1.0000 - val_loss: 11.6097 - val_accuracy: 0.4000\n",
      "Epoch 136/200\n",
      "15/15 [==============================] - 0s 11ms/step - loss: 2.6491e-07 - accuracy: 1.0000 - val_loss: 8.5719 - val_accuracy: 0.4000\n",
      "Epoch 137/200\n",
      "15/15 [==============================] - 0s 11ms/step - loss: 2.6226e-07 - accuracy: 1.0000 - val_loss: 2.5672 - val_accuracy: 0.4000\n",
      "Epoch 138/200\n",
      "15/15 [==============================] - 0s 11ms/step - loss: 2.5166e-07 - accuracy: 1.0000 - val_loss: 5.2196 - val_accuracy: 0.4000\n",
      "Epoch 139/200\n",
      "15/15 [==============================] - 0s 11ms/step - loss: 2.5166e-07 - accuracy: 1.0000 - val_loss: 7.3898 - val_accuracy: 0.4000\n",
      "Epoch 140/200\n",
      "15/15 [==============================] - 0s 11ms/step - loss: 2.4901e-07 - accuracy: 1.0000 - val_loss: 6.2747 - val_accuracy: 0.4000\n",
      "Epoch 141/200\n",
      "15/15 [==============================] - 0s 11ms/step - loss: 2.4637e-07 - accuracy: 1.0000 - val_loss: 6.2454 - val_accuracy: 0.4000\n",
      "Epoch 142/200\n",
      "15/15 [==============================] - 0s 11ms/step - loss: 2.3842e-07 - accuracy: 1.0000 - val_loss: 10.7618 - val_accuracy: 0.4000\n",
      "Epoch 143/200\n",
      "15/15 [==============================] - 0s 11ms/step - loss: 2.2782e-07 - accuracy: 1.0000 - val_loss: 7.5575 - val_accuracy: 0.4000\n",
      "Epoch 144/200\n",
      "15/15 [==============================] - 0s 11ms/step - loss: 2.2782e-07 - accuracy: 1.0000 - val_loss: 8.5738 - val_accuracy: 0.4000\n",
      "Epoch 145/200\n",
      "15/15 [==============================] - 0s 11ms/step - loss: 2.2517e-07 - accuracy: 1.0000 - val_loss: 11.7159 - val_accuracy: 0.4000\n",
      "Epoch 146/200\n",
      "15/15 [==============================] - 0s 11ms/step - loss: 2.1723e-07 - accuracy: 1.0000 - val_loss: 4.5497 - val_accuracy: 0.4000\n",
      "Epoch 147/200\n",
      "15/15 [==============================] - 0s 11ms/step - loss: 2.1723e-07 - accuracy: 1.0000 - val_loss: 3.5288 - val_accuracy: 0.4000\n",
      "Epoch 148/200\n",
      "15/15 [==============================] - 0s 16ms/step - loss: 2.0928e-07 - accuracy: 1.0000 - val_loss: 8.2741 - val_accuracy: 0.4000\n",
      "Epoch 149/200\n",
      "15/15 [==============================] - 0s 11ms/step - loss: 2.0398e-07 - accuracy: 1.0000 - val_loss: 5.2472 - val_accuracy: 0.4000\n",
      "Epoch 150/200\n",
      "15/15 [==============================] - 0s 11ms/step - loss: 2.0133e-07 - accuracy: 1.0000 - val_loss: 10.7245 - val_accuracy: 0.4000\n",
      "Epoch 151/200\n",
      "15/15 [==============================] - 0s 10ms/step - loss: 1.9603e-07 - accuracy: 1.0000 - val_loss: 3.7124 - val_accuracy: 0.4000\n",
      "Epoch 152/200\n",
      "15/15 [==============================] - 0s 11ms/step - loss: 1.8809e-07 - accuracy: 1.0000 - val_loss: 5.7405 - val_accuracy: 0.4000\n",
      "Epoch 153/200\n",
      "15/15 [==============================] - 0s 11ms/step - loss: 1.8544e-07 - accuracy: 1.0000 - val_loss: 2.8649 - val_accuracy: 0.4000\n",
      "Epoch 154/200\n",
      "15/15 [==============================] - 0s 10ms/step - loss: 1.8544e-07 - accuracy: 1.0000 - val_loss: 0.2286 - val_accuracy: 0.4000\n",
      "Epoch 155/200\n",
      "15/15 [==============================] - 0s 11ms/step - loss: 1.8279e-07 - accuracy: 1.0000 - val_loss: 5.9782 - val_accuracy: 0.4000\n",
      "Epoch 156/200\n",
      "15/15 [==============================] - 0s 10ms/step - loss: 1.8014e-07 - accuracy: 1.0000 - val_loss: 6.4543 - val_accuracy: 0.4000\n",
      "Epoch 157/200\n",
      "15/15 [==============================] - 0s 10ms/step - loss: 1.8014e-07 - accuracy: 1.0000 - val_loss: 6.2681 - val_accuracy: 0.4000\n",
      "Epoch 158/200\n",
      "15/15 [==============================] - 0s 11ms/step - loss: 1.7749e-07 - accuracy: 1.0000 - val_loss: 3.9140 - val_accuracy: 0.4000\n",
      "Epoch 159/200\n",
      "15/15 [==============================] - 0s 11ms/step - loss: 1.7484e-07 - accuracy: 1.0000 - val_loss: 11.9056 - val_accuracy: 0.4000\n",
      "Epoch 160/200\n",
      "15/15 [==============================] - 0s 10ms/step - loss: 1.7219e-07 - accuracy: 1.0000 - val_loss: 2.5854 - val_accuracy: 0.4000\n",
      "Epoch 161/200\n",
      "15/15 [==============================] - 0s 10ms/step - loss: 1.7219e-07 - accuracy: 1.0000 - val_loss: 0.0240 - val_accuracy: 0.4000\n",
      "Epoch 162/200\n",
      "15/15 [==============================] - 0s 11ms/step - loss: 1.6954e-07 - accuracy: 1.0000 - val_loss: 7.6160 - val_accuracy: 0.4000\n",
      "Epoch 163/200\n",
      "15/15 [==============================] - 0s 11ms/step - loss: 1.6689e-07 - accuracy: 1.0000 - val_loss: 4.9683 - val_accuracy: 0.4000\n",
      "Epoch 164/200\n",
      "15/15 [==============================] - 0s 10ms/step - loss: 1.6159e-07 - accuracy: 1.0000 - val_loss: 9.4012 - val_accuracy: 0.4000\n",
      "Epoch 165/200\n",
      "15/15 [==============================] - 0s 10ms/step - loss: 1.6159e-07 - accuracy: 1.0000 - val_loss: 5.0323 - val_accuracy: 0.4000\n",
      "Epoch 166/200\n",
      "15/15 [==============================] - 0s 10ms/step - loss: 1.6159e-07 - accuracy: 1.0000 - val_loss: 9.9477 - val_accuracy: 0.4000\n",
      "Epoch 167/200\n"
     ]
    },
    {
     "name": "stdout",
     "output_type": "stream",
     "text": [
      "15/15 [==============================] - 0s 10ms/step - loss: 1.6159e-07 - accuracy: 1.0000 - val_loss: 7.4445 - val_accuracy: 0.4000\n",
      "Epoch 168/200\n",
      "15/15 [==============================] - 0s 10ms/step - loss: 1.5100e-07 - accuracy: 1.0000 - val_loss: 2.8805 - val_accuracy: 0.4000\n",
      "Epoch 169/200\n",
      "15/15 [==============================] - 0s 10ms/step - loss: 1.5100e-07 - accuracy: 1.0000 - val_loss: 5.3109 - val_accuracy: 0.4000\n",
      "Epoch 170/200\n",
      "15/15 [==============================] - 0s 10ms/step - loss: 1.5100e-07 - accuracy: 1.0000 - val_loss: 8.5383 - val_accuracy: 0.4000\n",
      "Epoch 171/200\n",
      "15/15 [==============================] - 0s 10ms/step - loss: 1.4570e-07 - accuracy: 1.0000 - val_loss: 4.8208 - val_accuracy: 0.4000\n",
      "Epoch 172/200\n",
      "15/15 [==============================] - 0s 10ms/step - loss: 1.4040e-07 - accuracy: 1.0000 - val_loss: 6.3831 - val_accuracy: 0.4000\n",
      "Epoch 173/200\n",
      "15/15 [==============================] - 0s 10ms/step - loss: 1.3775e-07 - accuracy: 1.0000 - val_loss: 3.7232 - val_accuracy: 0.4000\n",
      "Epoch 174/200\n",
      "15/15 [==============================] - 0s 11ms/step - loss: 1.3245e-07 - accuracy: 1.0000 - val_loss: 5.3461 - val_accuracy: 0.4000\n",
      "Epoch 175/200\n",
      "15/15 [==============================] - 0s 11ms/step - loss: 1.3245e-07 - accuracy: 1.0000 - val_loss: 4.8511 - val_accuracy: 0.4000\n",
      "Epoch 176/200\n",
      "15/15 [==============================] - 0s 10ms/step - loss: 1.2716e-07 - accuracy: 1.0000 - val_loss: 4.8762 - val_accuracy: 0.4000\n",
      "Epoch 177/200\n",
      "15/15 [==============================] - 0s 11ms/step - loss: 1.2186e-07 - accuracy: 1.0000 - val_loss: 2.8914 - val_accuracy: 0.4000\n",
      "Epoch 178/200\n",
      "15/15 [==============================] - 0s 10ms/step - loss: 1.1921e-07 - accuracy: 1.0000 - val_loss: 9.4677 - val_accuracy: 0.4000\n",
      "Epoch 179/200\n",
      "15/15 [==============================] - 0s 10ms/step - loss: 1.1656e-07 - accuracy: 1.0000 - val_loss: 6.4053 - val_accuracy: 0.4000\n",
      "Epoch 180/200\n",
      "15/15 [==============================] - 0s 10ms/step - loss: 1.1656e-07 - accuracy: 1.0000 - val_loss: 8.4883 - val_accuracy: 0.4000\n",
      "Epoch 181/200\n",
      "15/15 [==============================] - 0s 11ms/step - loss: 1.1391e-07 - accuracy: 1.0000 - val_loss: 14.0090 - val_accuracy: 0.4000\n",
      "Epoch 182/200\n",
      "15/15 [==============================] - 0s 11ms/step - loss: 1.1391e-07 - accuracy: 1.0000 - val_loss: 8.4477 - val_accuracy: 0.4000\n",
      "Epoch 183/200\n",
      "15/15 [==============================] - 0s 10ms/step - loss: 1.1126e-07 - accuracy: 1.0000 - val_loss: 7.3134 - val_accuracy: 0.4000\n",
      "Epoch 184/200\n",
      "15/15 [==============================] - 0s 10ms/step - loss: 1.0861e-07 - accuracy: 1.0000 - val_loss: 0.2309 - val_accuracy: 0.4000\n",
      "Epoch 185/200\n",
      "15/15 [==============================] - 0s 10ms/step - loss: 1.0861e-07 - accuracy: 1.0000 - val_loss: 5.0292 - val_accuracy: 0.3333\n",
      "Epoch 186/200\n",
      "15/15 [==============================] - 0s 10ms/step - loss: 1.0596e-07 - accuracy: 1.0000 - val_loss: 4.9033 - val_accuracy: 0.4000\n",
      "Epoch 187/200\n",
      "15/15 [==============================] - 0s 11ms/step - loss: 1.0596e-07 - accuracy: 1.0000 - val_loss: 0.2536 - val_accuracy: 0.3333\n",
      "Epoch 188/200\n",
      "15/15 [==============================] - 0s 10ms/step - loss: 1.0067e-07 - accuracy: 1.0000 - val_loss: 7.5356 - val_accuracy: 0.4000\n",
      "Epoch 189/200\n",
      "15/15 [==============================] - 0s 11ms/step - loss: 1.0331e-07 - accuracy: 1.0000 - val_loss: 9.5031 - val_accuracy: 0.4000\n",
      "Epoch 190/200\n",
      "15/15 [==============================] - 0s 11ms/step - loss: 1.0067e-07 - accuracy: 1.0000 - val_loss: 9.4355 - val_accuracy: 0.4000\n",
      "Epoch 191/200\n",
      "15/15 [==============================] - 0s 11ms/step - loss: 1.0067e-07 - accuracy: 1.0000 - val_loss: 4.9384 - val_accuracy: 0.4000\n",
      "Epoch 192/200\n",
      "15/15 [==============================] - 0s 16ms/step - loss: 9.5367e-08 - accuracy: 1.0000 - val_loss: 4.8778 - val_accuracy: 0.4000\n",
      "Epoch 193/200\n",
      "15/15 [==============================] - 0s 11ms/step - loss: 9.2718e-08 - accuracy: 1.0000 - val_loss: 3.9404 - val_accuracy: 0.4000\n",
      "Epoch 194/200\n",
      "15/15 [==============================] - 0s 10ms/step - loss: 9.2718e-08 - accuracy: 1.0000 - val_loss: 0.0224 - val_accuracy: 0.4000\n",
      "Epoch 195/200\n",
      "15/15 [==============================] - 0s 11ms/step - loss: 9.2718e-08 - accuracy: 1.0000 - val_loss: 1.4974 - val_accuracy: 0.4000\n",
      "Epoch 196/200\n",
      "15/15 [==============================] - 0s 10ms/step - loss: 9.0069e-08 - accuracy: 1.0000 - val_loss: 5.9333 - val_accuracy: 0.4000\n",
      "Epoch 197/200\n",
      "15/15 [==============================] - 0s 10ms/step - loss: 9.0069e-08 - accuracy: 1.0000 - val_loss: 4.8909 - val_accuracy: 0.4000\n",
      "Epoch 198/200\n",
      "15/15 [==============================] - 0s 11ms/step - loss: 9.0069e-08 - accuracy: 1.0000 - val_loss: 9.5426 - val_accuracy: 0.3333\n",
      "Epoch 199/200\n",
      "15/15 [==============================] - 0s 11ms/step - loss: 8.7420e-08 - accuracy: 1.0000 - val_loss: 2.9139 - val_accuracy: 0.4000\n",
      "Epoch 200/200\n",
      "15/15 [==============================] - 0s 11ms/step - loss: 8.7420e-08 - accuracy: 1.0000 - val_loss: 2.6742 - val_accuracy: 0.4000\n"
     ]
    },
    {
     "data": {
      "text/plain": [
       "<keras.callbacks.callbacks.History at 0x16fb74dc348>"
      ]
     },
     "execution_count": 6,
     "metadata": {},
     "output_type": "execute_result"
    }
   ],
   "source": [
    "model.fit_generator(\n",
    "        train_generator,\n",
    "        steps_per_epoch=15,\n",
    "        epochs=200,\n",
    "        validation_data=test_generator,\n",
    "        validation_steps=5)"
   ]
  },
  {
   "cell_type": "markdown",
   "metadata": {
    "colab_type": "text",
    "id": "uT9NEiI-uy52"
   },
   "source": [
    "### 모델 평가하기"
   ]
  },
  {
   "cell_type": "code",
   "execution_count": 7,
   "metadata": {
    "colab": {
     "base_uri": "https://localhost:8080/",
     "height": 53
    },
    "colab_type": "code",
    "id": "XZ8jXxlIu1SE",
    "outputId": "d27cd618-d626-4874-d6fe-03cd36b7d393"
   },
   "outputs": [
    {
     "name": "stdout",
     "output_type": "stream",
     "text": [
      "-- Evaluate --\n",
      "accuracy: 40.00%\n"
     ]
    }
   ],
   "source": [
    "print(\"-- Evaluate --\")\n",
    "scores = model.evaluate_generator(test_generator, steps=5)\n",
    "print(\"%s: %.2f%%\" %(model.metrics_names[1], scores[1]*100))"
   ]
  },
  {
   "cell_type": "markdown",
   "metadata": {
    "colab_type": "text",
    "id": "QTlRD9Mqu9K6"
   },
   "source": [
    "### 모델 사용하기"
   ]
  },
  {
   "cell_type": "code",
   "execution_count": 8,
   "metadata": {
    "colab": {
     "base_uri": "https://localhost:8080/",
     "height": 323
    },
    "colab_type": "code",
    "id": "Wabhqvy-u48Q",
    "outputId": "abb1e734-766a-45dc-b25b-c9b2c8d38a8d"
   },
   "outputs": [
    {
     "name": "stdout",
     "output_type": "stream",
     "text": [
      "-- Predict --\n",
      "{'circle': 0, 'rectangle': 1, 'triangle': 2}\n",
      "[[0.063 0.001 0.936]\n",
      " [0.000 0.003 0.997]\n",
      " [0.502 0.000 0.498]\n",
      " [0.000 0.000 1.000]\n",
      " [0.000 0.000 1.000]\n",
      " [0.000 0.022 0.978]\n",
      " [0.000 0.000 1.000]\n",
      " [0.000 0.000 1.000]\n",
      " [0.000 0.000 1.000]\n",
      " [0.612 0.000 0.388]\n",
      " [0.010 0.000 0.990]\n",
      " [0.000 0.000 1.000]\n",
      " [0.000 0.000 0.999]\n",
      " [0.000 0.000 1.000]\n",
      " [0.000 0.002 0.998]]\n"
     ]
    }
   ],
   "source": [
    "print(\"-- Predict --\")\n",
    "output = model.predict_generator(test_generator, steps=5)\n",
    "np.set_printoptions(formatter={'float': lambda x: \"{0:0.3f}\".format(x)})\n",
    "print(test_generator.class_indices)\n",
    "print(output)"
   ]
  },
  {
   "cell_type": "code",
   "execution_count": 9,
   "metadata": {
    "colab": {},
    "colab_type": "code",
    "id": "jVItItOmvZOJ"
   },
   "outputs": [
    {
     "name": "stdout",
     "output_type": "stream",
     "text": [
      "circle\\circle021.png 0 2\n",
      "circle\\circle022.png 0 2\n",
      "circle\\circle023.png 0 0\n",
      "circle\\circle024.png 0 2\n",
      "circle\\circle025.png 0 2\n",
      "rectangle\\rectangle021.png 1 2\n",
      "rectangle\\rectangle022.png 1 2\n",
      "rectangle\\rectangle023.png 1 2\n",
      "rectangle\\rectangle024.png 1 2\n",
      "rectangle\\rectangle025.png 1 0\n",
      "triangle\\triangle021.png 2 2\n",
      "triangle\\triangle022.png 2 2\n",
      "triangle\\triangle023.png 2 2\n",
      "triangle\\triangle024.png 2 2\n",
      "triangle\\triangle025.png 2 2\n"
     ]
    }
   ],
   "source": [
    "for i in range(len(test_generator.labels)):\n",
    "    print(test_generator.filenames[i], test_generator.labels[i], np.argmax(output[i]))"
   ]
  },
  {
   "cell_type": "code",
   "execution_count": null,
   "metadata": {},
   "outputs": [],
   "source": []
  }
 ],
 "metadata": {
  "colab": {
   "collapsed_sections": [],
   "name": "PolygonClassfication_02_HardTest.ipynb",
   "provenance": [],
   "version": "0.3.2"
  },
  "kernelspec": {
   "display_name": "Python 3",
   "language": "python",
   "name": "python3"
  },
  "language_info": {
   "codemirror_mode": {
    "name": "ipython",
    "version": 3
   },
   "file_extension": ".py",
   "mimetype": "text/x-python",
   "name": "python",
   "nbconvert_exporter": "python",
   "pygments_lexer": "ipython3",
   "version": "3.7.7"
  }
 },
 "nbformat": 4,
 "nbformat_minor": 1
}
