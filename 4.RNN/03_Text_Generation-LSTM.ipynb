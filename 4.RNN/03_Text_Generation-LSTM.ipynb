{
 "cells": [
  {
   "cell_type": "markdown",
   "metadata": {},
   "source": [
    "# LSTM을 이용한 텍스트 생성\n",
    "- 데이터 다운로드: 캐글 [New York Times Comments](https://www.kaggle.com/aashita/nyt-comments)"
   ]
  },
  {
   "cell_type": "markdown",
   "metadata": {},
   "source": [
    "## 1. 데이터 전처리"
   ]
  },
  {
   "cell_type": "code",
   "execution_count": 1,
   "metadata": {},
   "outputs": [
    {
     "name": "stderr",
     "output_type": "stream",
     "text": [
      "Using TensorFlow backend.\n"
     ]
    }
   ],
   "source": [
    "import numpy as np\n",
    "import pandas as pd\n",
    "from string import punctuation\n",
    "\n",
    "from tensorflow import keras\n",
    "from keras.preprocessing.text import Tokenizer\n",
    "from keras.preprocessing.sequence import pad_sequences\n",
    "from keras.utils import to_categorical"
   ]
  },
  {
   "cell_type": "code",
   "execution_count": 2,
   "metadata": {},
   "outputs": [
    {
     "data": {
      "text/html": [
       "<div>\n",
       "<style scoped>\n",
       "    .dataframe tbody tr th:only-of-type {\n",
       "        vertical-align: middle;\n",
       "    }\n",
       "\n",
       "    .dataframe tbody tr th {\n",
       "        vertical-align: top;\n",
       "    }\n",
       "\n",
       "    .dataframe thead th {\n",
       "        text-align: right;\n",
       "    }\n",
       "</style>\n",
       "<table border=\"1\" class=\"dataframe\">\n",
       "  <thead>\n",
       "    <tr style=\"text-align: right;\">\n",
       "      <th></th>\n",
       "      <th>abstract</th>\n",
       "      <th>articleID</th>\n",
       "      <th>articleWordCount</th>\n",
       "      <th>byline</th>\n",
       "      <th>documentType</th>\n",
       "      <th>headline</th>\n",
       "      <th>keywords</th>\n",
       "      <th>multimedia</th>\n",
       "      <th>newDesk</th>\n",
       "      <th>printPage</th>\n",
       "      <th>pubDate</th>\n",
       "      <th>sectionName</th>\n",
       "      <th>snippet</th>\n",
       "      <th>source</th>\n",
       "      <th>typeOfMaterial</th>\n",
       "      <th>webURL</th>\n",
       "    </tr>\n",
       "  </thead>\n",
       "  <tbody>\n",
       "    <tr>\n",
       "      <th>0</th>\n",
       "      <td>NaN</td>\n",
       "      <td>5906b3197c459f24986dd003</td>\n",
       "      <td>2412</td>\n",
       "      <td>By IAN JOHNSON</td>\n",
       "      <td>article</td>\n",
       "      <td>My Beijing: The Sacred City</td>\n",
       "      <td>['Travel and Vacations', 'Beijing (China)', 'R...</td>\n",
       "      <td>3</td>\n",
       "      <td>Travel</td>\n",
       "      <td>1</td>\n",
       "      <td>2017-05-01 04:01:21</td>\n",
       "      <td>Unknown</td>\n",
       "      <td>This metropolis was once a total work of art, ...</td>\n",
       "      <td>The New York Times</td>\n",
       "      <td>News</td>\n",
       "      <td>https://www.nytimes.com/2017/05/01/travel/beij...</td>\n",
       "    </tr>\n",
       "    <tr>\n",
       "      <th>1</th>\n",
       "      <td>NaN</td>\n",
       "      <td>5906b3297c459f24986dd004</td>\n",
       "      <td>2318</td>\n",
       "      <td>By EMMA G. FITZSIMMONS</td>\n",
       "      <td>article</td>\n",
       "      <td>6 Million Riders a Day, 1930s Technology</td>\n",
       "      <td>['Subways', 'Delays (Transportation)', 'Transi...</td>\n",
       "      <td>68</td>\n",
       "      <td>Metro</td>\n",
       "      <td>1</td>\n",
       "      <td>2017-05-01 04:01:33</td>\n",
       "      <td>Unknown</td>\n",
       "      <td>New York’s subway is struggling with old infra...</td>\n",
       "      <td>The New York Times</td>\n",
       "      <td>News</td>\n",
       "      <td>https://www.nytimes.com/2017/05/01/nyregion/ne...</td>\n",
       "    </tr>\n",
       "    <tr>\n",
       "      <th>2</th>\n",
       "      <td>NaN</td>\n",
       "      <td>5906ceec7c459f24986dd021</td>\n",
       "      <td>1795</td>\n",
       "      <td>By MARC TRACY</td>\n",
       "      <td>article</td>\n",
       "      <td>Seeking a Cross-Border Conference</td>\n",
       "      <td>['Cetys University', 'College Athletics', 'Nat...</td>\n",
       "      <td>3</td>\n",
       "      <td>Sports</td>\n",
       "      <td>1</td>\n",
       "      <td>2017-05-01 06:00:05</td>\n",
       "      <td>Unknown</td>\n",
       "      <td>Cetys University is making an ambitious bid to...</td>\n",
       "      <td>The New York Times</td>\n",
       "      <td>News</td>\n",
       "      <td>https://www.nytimes.com/2017/05/01/sports/mexi...</td>\n",
       "    </tr>\n",
       "    <tr>\n",
       "      <th>3</th>\n",
       "      <td>NaN</td>\n",
       "      <td>5906cfa77c459f24986dd022</td>\n",
       "      <td>213</td>\n",
       "      <td>By SHANNON DOYNE</td>\n",
       "      <td>article</td>\n",
       "      <td>Questions for: ‘Despite the “Yuck Factor,” Lee...</td>\n",
       "      <td>[]</td>\n",
       "      <td>3</td>\n",
       "      <td>Learning</td>\n",
       "      <td>0</td>\n",
       "      <td>2017-05-01 06:03:03</td>\n",
       "      <td>Unknown</td>\n",
       "      <td>How are leeches used to treat various medical ...</td>\n",
       "      <td>The New York Times</td>\n",
       "      <td>News</td>\n",
       "      <td>https://www.nytimes.com/2017/05/01/learning/qu...</td>\n",
       "    </tr>\n",
       "    <tr>\n",
       "      <th>4</th>\n",
       "      <td>NaN</td>\n",
       "      <td>5906e1c07c459f24986dd039</td>\n",
       "      <td>1342</td>\n",
       "      <td>By JASON STANLEY</td>\n",
       "      <td>article</td>\n",
       "      <td>Who Is a ‘Criminal’?</td>\n",
       "      <td>['Illegal Immigration', 'Traffic and Parking V...</td>\n",
       "      <td>3</td>\n",
       "      <td>OpEd</td>\n",
       "      <td>0</td>\n",
       "      <td>2017-05-01 07:20:26</td>\n",
       "      <td>Unknown</td>\n",
       "      <td>Justice Roberts was right. The Trump administr...</td>\n",
       "      <td>The New York Times</td>\n",
       "      <td>Op-Ed</td>\n",
       "      <td>https://www.nytimes.com/2017/05/01/opinion/who...</td>\n",
       "    </tr>\n",
       "  </tbody>\n",
       "</table>\n",
       "</div>"
      ],
      "text/plain": [
       "  abstract                 articleID  articleWordCount  \\\n",
       "0      NaN  5906b3197c459f24986dd003              2412   \n",
       "1      NaN  5906b3297c459f24986dd004              2318   \n",
       "2      NaN  5906ceec7c459f24986dd021              1795   \n",
       "3      NaN  5906cfa77c459f24986dd022               213   \n",
       "4      NaN  5906e1c07c459f24986dd039              1342   \n",
       "\n",
       "                   byline documentType  \\\n",
       "0          By IAN JOHNSON      article   \n",
       "1  By EMMA G. FITZSIMMONS      article   \n",
       "2           By MARC TRACY      article   \n",
       "3        By SHANNON DOYNE      article   \n",
       "4        By JASON STANLEY      article   \n",
       "\n",
       "                                            headline  \\\n",
       "0                        My Beijing: The Sacred City   \n",
       "1           6 Million Riders a Day, 1930s Technology   \n",
       "2                  Seeking a Cross-Border Conference   \n",
       "3  Questions for: ‘Despite the “Yuck Factor,” Lee...   \n",
       "4                               Who Is a ‘Criminal’?   \n",
       "\n",
       "                                            keywords  multimedia   newDesk  \\\n",
       "0  ['Travel and Vacations', 'Beijing (China)', 'R...           3    Travel   \n",
       "1  ['Subways', 'Delays (Transportation)', 'Transi...          68     Metro   \n",
       "2  ['Cetys University', 'College Athletics', 'Nat...           3    Sports   \n",
       "3                                                 []           3  Learning   \n",
       "4  ['Illegal Immigration', 'Traffic and Parking V...           3      OpEd   \n",
       "\n",
       "   printPage              pubDate sectionName  \\\n",
       "0          1  2017-05-01 04:01:21     Unknown   \n",
       "1          1  2017-05-01 04:01:33     Unknown   \n",
       "2          1  2017-05-01 06:00:05     Unknown   \n",
       "3          0  2017-05-01 06:03:03     Unknown   \n",
       "4          0  2017-05-01 07:20:26     Unknown   \n",
       "\n",
       "                                             snippet              source  \\\n",
       "0  This metropolis was once a total work of art, ...  The New York Times   \n",
       "1  New York’s subway is struggling with old infra...  The New York Times   \n",
       "2  Cetys University is making an ambitious bid to...  The New York Times   \n",
       "3  How are leeches used to treat various medical ...  The New York Times   \n",
       "4  Justice Roberts was right. The Trump administr...  The New York Times   \n",
       "\n",
       "  typeOfMaterial                                             webURL  \n",
       "0           News  https://www.nytimes.com/2017/05/01/travel/beij...  \n",
       "1           News  https://www.nytimes.com/2017/05/01/nyregion/ne...  \n",
       "2           News  https://www.nytimes.com/2017/05/01/sports/mexi...  \n",
       "3           News  https://www.nytimes.com/2017/05/01/learning/qu...  \n",
       "4          Op-Ed  https://www.nytimes.com/2017/05/01/opinion/who...  "
      ]
     },
     "execution_count": 2,
     "metadata": {},
     "output_type": "execute_result"
    }
   ],
   "source": [
    "df=pd.read_csv('data/May2017.csv')\n",
    "df.head()"
   ]
  },
  {
   "cell_type": "code",
   "execution_count": 3,
   "metadata": {},
   "outputs": [
    {
     "name": "stdout",
     "output_type": "stream",
     "text": [
      "열의 개수:  16\n",
      "Index(['abstract', 'articleID', 'articleWordCount', 'byline', 'documentType',\n",
      "       'headline', 'keywords', 'multimedia', 'newDesk', 'printPage', 'pubDate',\n",
      "       'sectionName', 'snippet', 'source', 'typeOfMaterial', 'webURL'],\n",
      "      dtype='object')\n"
     ]
    }
   ],
   "source": [
    "print('열의 개수: ', len(df.columns))\n",
    "print(df.columns)"
   ]
  },
  {
   "cell_type": "code",
   "execution_count": 4,
   "metadata": {},
   "outputs": [
    {
     "data": {
      "text/plain": [
       "False"
      ]
     },
     "execution_count": 4,
     "metadata": {},
     "output_type": "execute_result"
    }
   ],
   "source": [
    "# headline 열의 데이터만 사용, Null 검사\n",
    "df['headline'].isnull().values.any()"
   ]
  },
  {
   "cell_type": "code",
   "execution_count": 5,
   "metadata": {},
   "outputs": [
    {
     "data": {
      "text/plain": [
       "['My Beijing: The Sacred City',\n",
       " '6 Million Riders a Day, 1930s Technology',\n",
       " 'Seeking a Cross-Border Conference',\n",
       " 'Questions for: ‘Despite the “Yuck Factor,” Leeches Are Big in Russian Medicine’',\n",
       " 'Who Is a ‘Criminal’?']"
      ]
     },
     "execution_count": 5,
     "metadata": {},
     "output_type": "execute_result"
    }
   ],
   "source": [
    "# headline 열의 데이터로 리스트 생성\n",
    "headline = [title for title in df.headline.values]\n",
    "headline[:5]"
   ]
  },
  {
   "cell_type": "code",
   "execution_count": 6,
   "metadata": {},
   "outputs": [
    {
     "data": {
      "text/plain": [
       "996"
      ]
     },
     "execution_count": 6,
     "metadata": {},
     "output_type": "execute_result"
    }
   ],
   "source": [
    "len(headline)"
   ]
  },
  {
   "cell_type": "code",
   "execution_count": 7,
   "metadata": {},
   "outputs": [
    {
     "data": {
      "text/plain": [
       "935"
      ]
     },
     "execution_count": 7,
     "metadata": {},
     "output_type": "execute_result"
    }
   ],
   "source": [
    "# 노이즈 데이터('Unknown') 제거\n",
    "headline = [title for title in headline if title != 'Unknown']\n",
    "len(headline)"
   ]
  },
  {
   "cell_type": "code",
   "execution_count": 8,
   "metadata": {},
   "outputs": [],
   "source": [
    "# 구두점 제거와 소문자화를 위한 함수\n",
    "def repreprocessing(s):\n",
    "    s=s.encode(\"utf8\").decode(\"ascii\",'ignore')\n",
    "    return ''.join(c for c in s if c not in punctuation).lower() "
   ]
  },
  {
   "cell_type": "code",
   "execution_count": 9,
   "metadata": {},
   "outputs": [
    {
     "data": {
      "text/plain": [
       "['my beijing the sacred city',\n",
       " '6 million riders a day 1930s technology',\n",
       " 'seeking a crossborder conference',\n",
       " 'questions for despite the yuck factor leeches are big in russian medicine',\n",
       " 'who is a criminal']"
      ]
     },
     "execution_count": 9,
     "metadata": {},
     "output_type": "execute_result"
    }
   ],
   "source": [
    "text = [repreprocessing(x) for x in headline]\n",
    "text[:5]"
   ]
  },
  {
   "cell_type": "code",
   "execution_count": 10,
   "metadata": {},
   "outputs": [
    {
     "name": "stdout",
     "output_type": "stream",
     "text": [
      "단어 집합의 크기 : 2653\n"
     ]
    }
   ],
   "source": [
    "# 단어 집합(vocabulary)을 만들고 크기를 확인\n",
    "t = Tokenizer()\n",
    "t.fit_on_texts(text)\n",
    "vocab_size = len(t.word_index) + 1\n",
    "print('단어 집합의 크기 : %d' % vocab_size)"
   ]
  },
  {
   "cell_type": "code",
   "execution_count": 11,
   "metadata": {},
   "outputs": [
    {
     "data": {
      "text/plain": [
       "[[48, 799],\n",
       " [48, 799, 1],\n",
       " [48, 799, 1, 800],\n",
       " [48, 799, 1, 800, 57],\n",
       " [114, 406],\n",
       " [114, 406, 407],\n",
       " [114, 406, 407, 2],\n",
       " [114, 406, 407, 2, 179],\n",
       " [114, 406, 407, 2, 179, 801],\n",
       " [114, 406, 407, 2, 179, 801, 802],\n",
       " [803, 2]]"
      ]
     },
     "execution_count": 11,
     "metadata": {},
     "output_type": "execute_result"
    }
   ],
   "source": [
    "sequences = []\n",
    "for line in text: # 1,214 개의 샘플에 대해서 샘플을 1개씩 가져온다.\n",
    "    encoded = t.texts_to_sequences([line])[0] # 각 샘플에 대한 정수 인코딩\n",
    "    for i in range(1, len(encoded)):\n",
    "        sequence = encoded[:i+1]\n",
    "        sequences.append(sequence)\n",
    "\n",
    "sequences[:11] # 11개의 샘플 출력"
   ]
  },
  {
   "cell_type": "code",
   "execution_count": 12,
   "metadata": {},
   "outputs": [
    {
     "name": "stdout",
     "output_type": "stream",
     "text": [
      "빈도수 상위 1번 단어 : the\n",
      "빈도수 상위 582번 단어 : taiwan\n"
     ]
    }
   ],
   "source": [
    "index_to_word = {}\n",
    "for key, value in t.word_index.items(): # 인덱스를 단어로 바꾸기 위해 index_to_word를 생성\n",
    "    index_to_word[value] = key\n",
    "\n",
    "print('빈도수 상위 1번 단어 :', index_to_word[1])\n",
    "print('빈도수 상위 582번 단어 :', index_to_word[582]) "
   ]
  },
  {
   "cell_type": "code",
   "execution_count": 13,
   "metadata": {},
   "outputs": [
    {
     "name": "stdout",
     "output_type": "stream",
     "text": [
      "샘플의 최대 길이 : 16\n"
     ]
    }
   ],
   "source": [
    "max_len=max(len(s) for s in sequences)\n",
    "print('샘플의 최대 길이 :', max_len) "
   ]
  },
  {
   "cell_type": "code",
   "execution_count": 14,
   "metadata": {},
   "outputs": [
    {
     "name": "stdout",
     "output_type": "stream",
     "text": [
      "[[  0   0   0   0   0   0   0   0   0   0   0   0   0   0  48 799]\n",
      " [  0   0   0   0   0   0   0   0   0   0   0   0   0  48 799   1]\n",
      " [  0   0   0   0   0   0   0   0   0   0   0   0  48 799   1 800]]\n"
     ]
    }
   ],
   "source": [
    "# 전체 샘플의 길이를 24(가장 긴 샘플의 길이)로 패딩\n",
    "# 'pre' 옵션을 주면 앞을 0으로 패딩\n",
    "sequences = pad_sequences(sequences, maxlen=max_len, padding='pre')\n",
    "print(sequences[:3])"
   ]
  },
  {
   "cell_type": "code",
   "execution_count": 15,
   "metadata": {},
   "outputs": [],
   "source": [
    "X = sequences[:,:-1]\n",
    "y = sequences[:,-1]"
   ]
  },
  {
   "cell_type": "code",
   "execution_count": 16,
   "metadata": {},
   "outputs": [],
   "source": [
    "# 레이블 데이터 y에 대해서 원-핫 인코딩을 수행\n",
    "y = to_categorical(y, num_classes=vocab_size)"
   ]
  },
  {
   "cell_type": "code",
   "execution_count": 17,
   "metadata": {},
   "outputs": [
    {
     "data": {
      "text/plain": [
       "((5501, 15), (5501, 2653))"
      ]
     },
     "execution_count": 17,
     "metadata": {},
     "output_type": "execute_result"
    }
   ],
   "source": [
    "X.shape, y.shape"
   ]
  },
  {
   "cell_type": "markdown",
   "metadata": {},
   "source": [
    "## 2. 모델 설계 및 학습"
   ]
  },
  {
   "cell_type": "code",
   "execution_count": 18,
   "metadata": {},
   "outputs": [],
   "source": [
    "from tensorflow import keras\n",
    "from keras.models import Sequential\n",
    "from keras.layers import Embedding, Dense, LSTM"
   ]
  },
  {
   "cell_type": "code",
   "execution_count": 19,
   "metadata": {},
   "outputs": [],
   "source": [
    "# 임베딩 벡터는 10차원, 은닉 상태 크기는 128\n",
    "embedding = Embedding(vocab_size, 10, input_length=max_len-1, name=\"Embedding_Layer\")\n",
    "lstm = LSTM(128, name=\"LSTM_Layer\")\n",
    "output = Dense(vocab_size, activation='softmax', name=\"Output_Layer\")"
   ]
  },
  {
   "cell_type": "code",
   "execution_count": 20,
   "metadata": {},
   "outputs": [
    {
     "name": "stdout",
     "output_type": "stream",
     "text": [
      "Model: \"sequential_1\"\n",
      "_________________________________________________________________\n",
      "Layer (type)                 Output Shape              Param #   \n",
      "=================================================================\n",
      "Embedding_Layer (Embedding)  (None, 15, 10)            26530     \n",
      "_________________________________________________________________\n",
      "LSTM_Layer (LSTM)            (None, 128)               71168     \n",
      "_________________________________________________________________\n",
      "Output_Layer (Dense)         (None, 2653)              342237    \n",
      "=================================================================\n",
      "Total params: 439,935\n",
      "Trainable params: 439,935\n",
      "Non-trainable params: 0\n",
      "_________________________________________________________________\n"
     ]
    }
   ],
   "source": [
    "model = Sequential()\n",
    "model.add(embedding)\n",
    "model.add(lstm)\n",
    "model.add(output)\n",
    "model.summary()"
   ]
  },
  {
   "cell_type": "code",
   "execution_count": 21,
   "metadata": {},
   "outputs": [],
   "source": [
    "model.compile(loss='categorical_crossentropy', \n",
    "              optimizer='adam', metrics=['accuracy'])"
   ]
  },
  {
   "cell_type": "code",
   "execution_count": null,
   "metadata": {},
   "outputs": [
    {
     "name": "stderr",
     "output_type": "stream",
     "text": [
      "C:\\Users\\1\\.conda\\envs\\tf2\\lib\\site-packages\\tensorflow_core\\python\\framework\\indexed_slices.py:433: UserWarning: Converting sparse IndexedSlices to a dense Tensor of unknown shape. This may consume a large amount of memory.\n",
      "  \"Converting sparse IndexedSlices to a dense Tensor of unknown shape. \"\n"
     ]
    },
    {
     "name": "stdout",
     "output_type": "stream",
     "text": [
      "Epoch 1/200\n",
      " - 2s - loss: 7.5043 - accuracy: 0.0342\n",
      "Epoch 2/200\n",
      " - 2s - loss: 6.9879 - accuracy: 0.0362\n",
      "Epoch 3/200\n",
      " - 2s - loss: 6.8684 - accuracy: 0.0378\n",
      "Epoch 4/200\n",
      " - 2s - loss: 6.7753 - accuracy: 0.0382\n",
      "Epoch 5/200\n",
      " - 2s - loss: 6.6659 - accuracy: 0.0458\n",
      "Epoch 6/200\n",
      " - 2s - loss: 6.5396 - accuracy: 0.0484\n",
      "Epoch 7/200\n",
      " - 2s - loss: 6.3996 - accuracy: 0.0531\n",
      "Epoch 8/200\n",
      " - 2s - loss: 6.2405 - accuracy: 0.0536\n",
      "Epoch 9/200\n",
      " - 2s - loss: 6.0787 - accuracy: 0.0580\n",
      "Epoch 10/200\n",
      " - 2s - loss: 5.9125 - accuracy: 0.0598\n",
      "Epoch 11/200\n",
      " - 2s - loss: 5.7519 - accuracy: 0.0631\n",
      "Epoch 12/200\n",
      " - 2s - loss: 5.5989 - accuracy: 0.0665\n",
      "Epoch 13/200\n",
      " - 2s - loss: 5.4544 - accuracy: 0.0738\n",
      "Epoch 14/200\n",
      " - 2s - loss: 5.3183 - accuracy: 0.0816\n",
      "Epoch 15/200\n",
      " - 2s - loss: 5.1862 - accuracy: 0.0851\n",
      "Epoch 16/200\n",
      " - 2s - loss: 5.0574 - accuracy: 0.0913\n",
      "Epoch 17/200\n",
      " - 2s - loss: 4.9328 - accuracy: 0.0983\n",
      "Epoch 18/200\n",
      " - 2s - loss: 4.8138 - accuracy: 0.1020\n",
      "Epoch 19/200\n",
      " - 2s - loss: 4.7015 - accuracy: 0.1080\n",
      "Epoch 20/200\n",
      " - 2s - loss: 4.5902 - accuracy: 0.1242\n",
      "Epoch 21/200\n",
      " - 2s - loss: 4.4812 - accuracy: 0.1387\n",
      "Epoch 22/200\n",
      " - 2s - loss: 4.3773 - accuracy: 0.1472\n",
      "Epoch 23/200\n",
      " - 2s - loss: 4.2751 - accuracy: 0.1603\n",
      "Epoch 24/200\n",
      " - 2s - loss: 4.1738 - accuracy: 0.1743\n",
      "Epoch 25/200\n",
      " - 2s - loss: 4.0775 - accuracy: 0.1940\n",
      "Epoch 26/200\n",
      " - 2s - loss: 3.9851 - accuracy: 0.2056\n",
      "Epoch 27/200\n",
      " - 2s - loss: 3.8939 - accuracy: 0.2191\n",
      "Epoch 28/200\n",
      " - 2s - loss: 3.8048 - accuracy: 0.2354\n",
      "Epoch 29/200\n",
      " - 2s - loss: 3.7158 - accuracy: 0.2469\n",
      "Epoch 30/200\n",
      " - 2s - loss: 3.6355 - accuracy: 0.2581\n",
      "Epoch 31/200\n",
      " - 2s - loss: 3.5534 - accuracy: 0.2767\n",
      "Epoch 32/200\n",
      " - 2s - loss: 3.4732 - accuracy: 0.2839\n",
      "Epoch 33/200\n",
      " - 2s - loss: 3.3961 - accuracy: 0.3019\n",
      "Epoch 34/200\n",
      " - 2s - loss: 3.3188 - accuracy: 0.3179\n",
      "Epoch 35/200\n",
      " - 2s - loss: 3.2486 - accuracy: 0.3347\n",
      "Epoch 36/200\n",
      " - 2s - loss: 3.1771 - accuracy: 0.3418\n",
      "Epoch 37/200\n",
      " - 2s - loss: 3.1068 - accuracy: 0.3556\n",
      "Epoch 38/200\n",
      " - 2s - loss: 3.0411 - accuracy: 0.3681\n",
      "Epoch 39/200\n",
      " - 2s - loss: 2.9746 - accuracy: 0.3825\n"
     ]
    }
   ],
   "source": [
    "history = model.fit(X, y, epochs=200, verbose=2) "
   ]
  },
  {
   "cell_type": "markdown",
   "metadata": {},
   "source": [
    "## 3. 모델 검증"
   ]
  },
  {
   "cell_type": "code",
   "execution_count": null,
   "metadata": {},
   "outputs": [],
   "source": [
    "def sentence_generation(model, t, current_word, n): # 모델, 토크나이저, 현재 단어, 반복할 횟수\n",
    "    init_word = current_word # 처음 들어온 단어도 마지막에 같이 출력하기위해 저장\n",
    "    sentence = ''\n",
    "    for _ in range(n): # n번 반복\n",
    "        encoded = t.texts_to_sequences([current_word])[0] # 현재 단어에 대한 정수 인코딩\n",
    "        encoded = pad_sequences([encoded], maxlen=23, padding='pre') # 데이터에 대한 패딩\n",
    "        result = model.predict_classes(encoded, verbose=0)\n",
    "          # 입력한 X(현재 단어)에 대해서 y를 예측하고 y(예측한 단어)를 result에 저장.\n",
    "        for word, index in t.word_index.items(): \n",
    "            if index == result: # 만약 예측한 단어와 인덱스와 동일한 단어가 있다면\n",
    "                break # 해당 단어가 예측 단어이므로 break\n",
    "        current_word = current_word + ' '  + word # 현재 단어 + ' ' + 예측 단어를 현재 단어로 변경\n",
    "        sentence = sentence + ' ' + word # 예측 단어를 문장에 저장\n",
    "\n",
    "    sentence = init_word + sentence\n",
    "    return sentence"
   ]
  },
  {
   "cell_type": "code",
   "execution_count": null,
   "metadata": {},
   "outputs": [],
   "source": [
    "print(sentence_generation(model, t, 'i', 10))\n",
    "# 임의의 단어 'i'에 대해서 10개의 단어를 추가 생성"
   ]
  },
  {
   "cell_type": "code",
   "execution_count": null,
   "metadata": {},
   "outputs": [],
   "source": [
    "print(sentence_generation(model, t, 'how', 10))\n",
    "# 임의의 단어 'how'에 대해서 10개의 단어를 추가 생성"
   ]
  },
  {
   "cell_type": "code",
   "execution_count": null,
   "metadata": {},
   "outputs": [],
   "source": [
    "print(sentence_generation(model, t, 'former', 10))"
   ]
  },
  {
   "cell_type": "code",
   "execution_count": null,
   "metadata": {},
   "outputs": [],
   "source": []
  }
 ],
 "metadata": {
  "kernelspec": {
   "display_name": "Python 3",
   "language": "python",
   "name": "python3"
  },
  "language_info": {
   "codemirror_mode": {
    "name": "ipython",
    "version": 3
   },
   "file_extension": ".py",
   "mimetype": "text/x-python",
   "name": "python",
   "nbconvert_exporter": "python",
   "pygments_lexer": "ipython3",
   "version": "3.7.7"
  }
 },
 "nbformat": 4,
 "nbformat_minor": 2
}
