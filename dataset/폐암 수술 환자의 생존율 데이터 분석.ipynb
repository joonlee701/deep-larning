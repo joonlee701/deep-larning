{
 "cells": [
  {
   "cell_type": "code",
   "execution_count": 4,
   "metadata": {},
   "outputs": [
    {
     "data": {
      "text/plain": [
       "'2.1.0'"
      ]
     },
     "execution_count": 4,
     "metadata": {},
     "output_type": "execute_result"
    }
   ],
   "source": [
    "import numpy as np\n",
    "import tensorflow as tf\n",
    "tf.__version__"
   ]
  },
  {
   "cell_type": "code",
   "execution_count": 5,
   "metadata": {},
   "outputs": [],
   "source": [
    "seed = 2020\n",
    "np.random.seed(seed)\n",
    "tf.random.set_seed(seed)"
   ]
  },
  {
   "cell_type": "code",
   "execution_count": 9,
   "metadata": {},
   "outputs": [
    {
     "data": {
      "text/plain": [
       "array([[293.  ,   1.  ,   3.8 , ...,   0.  ,  62.  ,   0.  ],\n",
       "       [  1.  ,   2.  ,   2.88, ...,   0.  ,  60.  ,   0.  ],\n",
       "       [  8.  ,   2.  ,   3.19, ...,   0.  ,  66.  ,   1.  ],\n",
       "       ...,\n",
       "       [406.  ,   6.  ,   5.36, ...,   0.  ,  62.  ,   0.  ],\n",
       "       [ 25.  ,   8.  ,   4.32, ...,   0.  ,  58.  ,   1.  ],\n",
       "       [447.  ,   8.  ,   5.2 , ...,   0.  ,  49.  ,   0.  ]])"
      ]
     },
     "execution_count": 9,
     "metadata": {},
     "output_type": "execute_result"
    }
   ],
   "source": [
    "data_set = np.loadtxt('../dataset/ThoraricSurgery.csv', delimiter=',')\n",
    "data_set"
   ]
  },
  {
   "cell_type": "code",
   "execution_count": 12,
   "metadata": {},
   "outputs": [
    {
     "data": {
      "text/plain": [
       "((470, 17), (470,))"
      ]
     },
     "execution_count": 12,
     "metadata": {},
     "output_type": "execute_result"
    }
   ],
   "source": [
    "X= data_set[:,0:17]\n",
    "Y= data_set[:,17]\n",
    "X.shape, Y.shape "
   ]
  },
  {
   "cell_type": "code",
   "execution_count": null,
   "metadata": {},
   "outputs": [],
   "source": []
  },
  {
   "cell_type": "code",
   "execution_count": 15,
   "metadata": {},
   "outputs": [],
   "source": [
    "from tensorflow.keras.models import Sequential\n",
    "from tensorflow.keras.layers import Dense"
   ]
  },
  {
   "cell_type": "code",
   "execution_count": 17,
   "metadata": {},
   "outputs": [
    {
     "name": "stdout",
     "output_type": "stream",
     "text": [
      "Model: \"sequential_1\"\n",
      "_________________________________________________________________\n",
      "Layer (type)                 Output Shape              Param #   \n",
      "=================================================================\n",
      "dense_2 (Dense)              (None, 30)                540       \n",
      "_________________________________________________________________\n",
      "dense_3 (Dense)              (None, 1)                 31        \n",
      "=================================================================\n",
      "Total params: 571\n",
      "Trainable params: 571\n",
      "Non-trainable params: 0\n",
      "_________________________________________________________________\n"
     ]
    }
   ],
   "source": [
    "model = Sequential([\n",
    "    Dense(30,input_shape=(17,), activation = 'relu'  ),\n",
    "    Dense(1, activation= 'sigmoid')\n",
    "])\n",
    "\n",
    "model.summary()"
   ]
  },
  {
   "cell_type": "code",
   "execution_count": 20,
   "metadata": {},
   "outputs": [],
   "source": [
    "model.compile(loss='binary_crossentropy', optimizer ='adam', metrics=['accuracy'])"
   ]
  },
  {
   "cell_type": "code",
   "execution_count": 22,
   "metadata": {},
   "outputs": [
    {
     "name": "stdout",
     "output_type": "stream",
     "text": [
      "Train on 470 samples\n",
      "Epoch 1/20\n",
      "470/470 [==============================] - 0s 905us/sample - loss: 2.8748 - accuracy: 0.8021\n",
      "Epoch 2/20\n",
      "470/470 [==============================] - 0s 141us/sample - loss: 0.6081 - accuracy: 0.8085\n",
      "Epoch 3/20\n",
      "470/470 [==============================] - 0s 140us/sample - loss: 0.4968 - accuracy: 0.8340\n",
      "Epoch 4/20\n",
      "470/470 [==============================] - 0s 143us/sample - loss: 0.4919 - accuracy: 0.8340\n",
      "Epoch 5/20\n",
      "470/470 [==============================] - 0s 142us/sample - loss: 0.4895 - accuracy: 0.8255\n",
      "Epoch 6/20\n",
      "470/470 [==============================] - 0s 143us/sample - loss: 0.4928 - accuracy: 0.8404\n",
      "Epoch 7/20\n",
      "470/470 [==============================] - 0s 142us/sample - loss: 0.4739 - accuracy: 0.8191\n",
      "Epoch 8/20\n",
      "470/470 [==============================] - 0s 142us/sample - loss: 0.4951 - accuracy: 0.8404\n",
      "Epoch 9/20\n",
      "470/470 [==============================] - 0s 140us/sample - loss: 0.4557 - accuracy: 0.8511\n",
      "Epoch 10/20\n",
      "470/470 [==============================] - 0s 144us/sample - loss: 0.4605 - accuracy: 0.8447\n",
      "Epoch 11/20\n",
      "470/470 [==============================] - 0s 141us/sample - loss: 0.4468 - accuracy: 0.8255\n",
      "Epoch 12/20\n",
      "470/470 [==============================] - 0s 146us/sample - loss: 0.4980 - accuracy: 0.8468\n",
      "Epoch 13/20\n",
      "470/470 [==============================] - 0s 144us/sample - loss: 0.4500 - accuracy: 0.8426\n",
      "Epoch 14/20\n",
      "470/470 [==============================] - 0s 140us/sample - loss: 0.4580 - accuracy: 0.8362\n",
      "Epoch 15/20\n",
      "470/470 [==============================] - 0s 140us/sample - loss: 0.4785 - accuracy: 0.8383\n",
      "Epoch 16/20\n",
      "470/470 [==============================] - 0s 114us/sample - loss: 0.4760 - accuracy: 0.8383\n",
      "Epoch 17/20\n",
      "470/470 [==============================] - 0s 92us/sample - loss: 0.4544 - accuracy: 0.8447\n",
      "Epoch 18/20\n",
      "470/470 [==============================] - 0s 88us/sample - loss: 0.4414 - accuracy: 0.8468\n",
      "Epoch 19/20\n",
      "470/470 [==============================] - 0s 89us/sample - loss: 0.4867 - accuracy: 0.8383\n",
      "Epoch 20/20\n",
      "470/470 [==============================] - 0s 87us/sample - loss: 0.4526 - accuracy: 0.8447\n"
     ]
    },
    {
     "data": {
      "text/plain": [
       "<tensorflow.python.keras.callbacks.History at 0x23aefe77d48>"
      ]
     },
     "execution_count": 22,
     "metadata": {},
     "output_type": "execute_result"
    }
   ],
   "source": [
    "model.fit(X, Y, epochs=20, batch_size=10)"
   ]
  },
  {
   "cell_type": "code",
   "execution_count": null,
   "metadata": {},
   "outputs": [],
   "source": []
  },
  {
   "cell_type": "code",
   "execution_count": null,
   "metadata": {},
   "outputs": [],
   "source": [
    "print('\\n Accuracy: %.4f' %            )"
   ]
  }
 ],
 "metadata": {
  "kernelspec": {
   "display_name": "Python 3",
   "language": "python",
   "name": "python3"
  },
  "language_info": {
   "codemirror_mode": {
    "name": "ipython",
    "version": 3
   },
   "file_extension": ".py",
   "mimetype": "text/x-python",
   "name": "python",
   "nbconvert_exporter": "python",
   "pygments_lexer": "ipython3",
   "version": "3.7.7"
  }
 },
 "nbformat": 4,
 "nbformat_minor": 4
}
